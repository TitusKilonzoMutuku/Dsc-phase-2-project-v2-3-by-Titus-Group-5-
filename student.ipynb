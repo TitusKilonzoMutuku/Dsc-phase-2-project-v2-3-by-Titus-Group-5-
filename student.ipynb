{
 "cells": [
  {
   "cell_type": "markdown",
   "metadata": {},
   "source": [
    "## KING COUNTY HOUSE PRICE PREDICTION"
   ]
  },
  {
   "cell_type": "markdown",
   "metadata": {},
   "source": [
    "## Final Project Submission    \n",
    "## Titus Kilonzo Mutuku (Group 5)\n",
    "* Student pace:full time\n",
    "* Scheduled project review date/time: November 20223\n",
    "* Instructor name: Diana "
   ]
  },
  {
   "cell_type": "markdown",
   "metadata": {},
   "source": [
    "# Overview\n",
    "This project leverages the King County House Sales dataset to perform a comprehensive analysis of house sales in a Northwest county using multiple linear regression modeling. Our primary aim is to empower local real estate agencies with the insights required to address inquiries, particularly from homeowners. We seek to identify the pivotal factors that significantly impact house prices and quantify the extent of their influence on property values and potential appreciation."
   ]
  },
  {
   "cell_type": "markdown",
   "metadata": {},
   "source": [
    "# Business Understanding\n",
    "To identify how house prices are affected by various factors and to provide a guide on how to best identify properties that bear a high resell value for to maximize on profit margins."
   ]
  },
  {
   "cell_type": "markdown",
   "metadata": {},
   "source": [
    "# Background \n",
    "King County has witnessed a vibrant real estate market.The housing market in this county is competitive, and homeowners looking to buy or sell properties frequently seek guidance from local real estate agencies. One common concern among homeowners is the potential value added by home renovations. This project aims to provide data-driven insights into this issue, helping homeowners make informed decisions on their properties. The King County House Sales dataset serves as a valuable resource for this analysis."
   ]
  },
  {
   "cell_type": "markdown",
   "metadata": {},
   "source": [
    "## Data Exploration/Understanding\n",
    "- This dataset contains house sales prices for King County. It includes homes sold between May 2014 and May 2015.\n",
    "- The dependent Variable: Sales Price / Selling Price\n",
    "- The predictors: the sale date, renovation year, number of bedrooms and bathrooms, number of floors, the square footage of the   houses (both living and lot), and available view of waterfront. Also, the dataset contains the grade and condition of each       house.\n",
    "- Datatypes: All are integers or Float except the  date and sqft_basement (object).\n",
    "- Distribution of our data:\n",
    "   - continuous: sqft_living, sqft_lot, sqft_above, sqft_basement (after adjustment), gap year between sold and built/renovated\n",
    "   - discrete: bedrooms, bathrooms, grade, floors, condition\n",
    "   - categorical: waterfront\n",
    "- Our datasets contain 21,597 items of house sale information\n",
    "- We will eliminate the information such as house ID, zipcode, latitude and longitude, and whether the house has been viewed or not."
   ]
  },
  {
   "cell_type": "markdown",
   "metadata": {},
   "source": [
    "### Importing Libraries"
   ]
  },
  {
   "cell_type": "markdown",
   "metadata": {},
   "source": [
    "#### Importing the relevant modules and the dataset"
   ]
  },
  {
   "cell_type": "code",
   "execution_count": 2,
   "metadata": {},
   "outputs": [],
   "source": [
    "#importing libraries\n",
    "import pandas as pd\n",
    "import numpy as np\n",
    "import seaborn as sns\n",
    "import matplotlib.pyplot as plt\n",
    "import matplotlib.ticker as mtick\n",
    "%matplotlib inline\n",
    "plt.style.use('seaborn')\n",
    "\n",
    "from statsmodels.formula.api import ols\n",
    "from statsmodels.stats.outliers_influence import variance_inflation_factor\n",
    "\n",
    "import scipy.stats as stats\n",
    "\n",
    "from sklearn.model_selection import train_test_split\n",
    "from sklearn.linear_model import LinearRegression\n",
    "from sklearn.metrics import mean_squared_error, make_scorer\n",
    "from sklearn.model_selection import cross_val_score\n",
    "\n",
    "import warnings\n",
    "warnings.filterwarnings(\"ignore\")"
   ]
  },
  {
   "cell_type": "markdown",
   "metadata": {},
   "source": [
    "#### Loading the dataset using pandas"
   ]
  },
  {
   "cell_type": "code",
   "execution_count": 3,
   "metadata": {},
   "outputs": [
    {
     "data": {
      "text/html": [
       "<div>\n",
       "<style scoped>\n",
       "    .dataframe tbody tr th:only-of-type {\n",
       "        vertical-align: middle;\n",
       "    }\n",
       "\n",
       "    .dataframe tbody tr th {\n",
       "        vertical-align: top;\n",
       "    }\n",
       "\n",
       "    .dataframe thead th {\n",
       "        text-align: right;\n",
       "    }\n",
       "</style>\n",
       "<table border=\"1\" class=\"dataframe\">\n",
       "  <thead>\n",
       "    <tr style=\"text-align: right;\">\n",
       "      <th></th>\n",
       "      <th>id</th>\n",
       "      <th>date</th>\n",
       "      <th>price</th>\n",
       "      <th>bedrooms</th>\n",
       "      <th>bathrooms</th>\n",
       "      <th>sqft_living</th>\n",
       "      <th>sqft_lot</th>\n",
       "      <th>floors</th>\n",
       "      <th>waterfront</th>\n",
       "      <th>view</th>\n",
       "      <th>...</th>\n",
       "      <th>grade</th>\n",
       "      <th>sqft_above</th>\n",
       "      <th>sqft_basement</th>\n",
       "      <th>yr_built</th>\n",
       "      <th>yr_renovated</th>\n",
       "      <th>zipcode</th>\n",
       "      <th>lat</th>\n",
       "      <th>long</th>\n",
       "      <th>sqft_living15</th>\n",
       "      <th>sqft_lot15</th>\n",
       "    </tr>\n",
       "  </thead>\n",
       "  <tbody>\n",
       "    <tr>\n",
       "      <th>0</th>\n",
       "      <td>7129300520</td>\n",
       "      <td>10/13/2014</td>\n",
       "      <td>221900.0</td>\n",
       "      <td>3</td>\n",
       "      <td>1.00</td>\n",
       "      <td>1180</td>\n",
       "      <td>5650</td>\n",
       "      <td>1.0</td>\n",
       "      <td>NaN</td>\n",
       "      <td>NONE</td>\n",
       "      <td>...</td>\n",
       "      <td>7 Average</td>\n",
       "      <td>1180</td>\n",
       "      <td>0.0</td>\n",
       "      <td>1955</td>\n",
       "      <td>0.0</td>\n",
       "      <td>98178</td>\n",
       "      <td>47.5112</td>\n",
       "      <td>-122.257</td>\n",
       "      <td>1340</td>\n",
       "      <td>5650</td>\n",
       "    </tr>\n",
       "    <tr>\n",
       "      <th>1</th>\n",
       "      <td>6414100192</td>\n",
       "      <td>12/9/2014</td>\n",
       "      <td>538000.0</td>\n",
       "      <td>3</td>\n",
       "      <td>2.25</td>\n",
       "      <td>2570</td>\n",
       "      <td>7242</td>\n",
       "      <td>2.0</td>\n",
       "      <td>NO</td>\n",
       "      <td>NONE</td>\n",
       "      <td>...</td>\n",
       "      <td>7 Average</td>\n",
       "      <td>2170</td>\n",
       "      <td>400.0</td>\n",
       "      <td>1951</td>\n",
       "      <td>1991.0</td>\n",
       "      <td>98125</td>\n",
       "      <td>47.7210</td>\n",
       "      <td>-122.319</td>\n",
       "      <td>1690</td>\n",
       "      <td>7639</td>\n",
       "    </tr>\n",
       "    <tr>\n",
       "      <th>2</th>\n",
       "      <td>5631500400</td>\n",
       "      <td>2/25/2015</td>\n",
       "      <td>180000.0</td>\n",
       "      <td>2</td>\n",
       "      <td>1.00</td>\n",
       "      <td>770</td>\n",
       "      <td>10000</td>\n",
       "      <td>1.0</td>\n",
       "      <td>NO</td>\n",
       "      <td>NONE</td>\n",
       "      <td>...</td>\n",
       "      <td>6 Low Average</td>\n",
       "      <td>770</td>\n",
       "      <td>0.0</td>\n",
       "      <td>1933</td>\n",
       "      <td>NaN</td>\n",
       "      <td>98028</td>\n",
       "      <td>47.7379</td>\n",
       "      <td>-122.233</td>\n",
       "      <td>2720</td>\n",
       "      <td>8062</td>\n",
       "    </tr>\n",
       "    <tr>\n",
       "      <th>3</th>\n",
       "      <td>2487200875</td>\n",
       "      <td>12/9/2014</td>\n",
       "      <td>604000.0</td>\n",
       "      <td>4</td>\n",
       "      <td>3.00</td>\n",
       "      <td>1960</td>\n",
       "      <td>5000</td>\n",
       "      <td>1.0</td>\n",
       "      <td>NO</td>\n",
       "      <td>NONE</td>\n",
       "      <td>...</td>\n",
       "      <td>7 Average</td>\n",
       "      <td>1050</td>\n",
       "      <td>910.0</td>\n",
       "      <td>1965</td>\n",
       "      <td>0.0</td>\n",
       "      <td>98136</td>\n",
       "      <td>47.5208</td>\n",
       "      <td>-122.393</td>\n",
       "      <td>1360</td>\n",
       "      <td>5000</td>\n",
       "    </tr>\n",
       "    <tr>\n",
       "      <th>4</th>\n",
       "      <td>1954400510</td>\n",
       "      <td>2/18/2015</td>\n",
       "      <td>510000.0</td>\n",
       "      <td>3</td>\n",
       "      <td>2.00</td>\n",
       "      <td>1680</td>\n",
       "      <td>8080</td>\n",
       "      <td>1.0</td>\n",
       "      <td>NO</td>\n",
       "      <td>NONE</td>\n",
       "      <td>...</td>\n",
       "      <td>8 Good</td>\n",
       "      <td>1680</td>\n",
       "      <td>0.0</td>\n",
       "      <td>1987</td>\n",
       "      <td>0.0</td>\n",
       "      <td>98074</td>\n",
       "      <td>47.6168</td>\n",
       "      <td>-122.045</td>\n",
       "      <td>1800</td>\n",
       "      <td>7503</td>\n",
       "    </tr>\n",
       "  </tbody>\n",
       "</table>\n",
       "<p>5 rows × 21 columns</p>\n",
       "</div>"
      ],
      "text/plain": [
       "           id        date     price  bedrooms  bathrooms  sqft_living  \\\n",
       "0  7129300520  10/13/2014  221900.0         3       1.00         1180   \n",
       "1  6414100192   12/9/2014  538000.0         3       2.25         2570   \n",
       "2  5631500400   2/25/2015  180000.0         2       1.00          770   \n",
       "3  2487200875   12/9/2014  604000.0         4       3.00         1960   \n",
       "4  1954400510   2/18/2015  510000.0         3       2.00         1680   \n",
       "\n",
       "   sqft_lot  floors waterfront  view  ...          grade sqft_above  \\\n",
       "0      5650     1.0        NaN  NONE  ...      7 Average       1180   \n",
       "1      7242     2.0         NO  NONE  ...      7 Average       2170   \n",
       "2     10000     1.0         NO  NONE  ...  6 Low Average        770   \n",
       "3      5000     1.0         NO  NONE  ...      7 Average       1050   \n",
       "4      8080     1.0         NO  NONE  ...         8 Good       1680   \n",
       "\n",
       "   sqft_basement yr_built  yr_renovated  zipcode      lat     long  \\\n",
       "0            0.0     1955           0.0    98178  47.5112 -122.257   \n",
       "1          400.0     1951        1991.0    98125  47.7210 -122.319   \n",
       "2            0.0     1933           NaN    98028  47.7379 -122.233   \n",
       "3          910.0     1965           0.0    98136  47.5208 -122.393   \n",
       "4            0.0     1987           0.0    98074  47.6168 -122.045   \n",
       "\n",
       "   sqft_living15  sqft_lot15  \n",
       "0           1340        5650  \n",
       "1           1690        7639  \n",
       "2           2720        8062  \n",
       "3           1360        5000  \n",
       "4           1800        7503  \n",
       "\n",
       "[5 rows x 21 columns]"
      ]
     },
     "execution_count": 3,
     "metadata": {},
     "output_type": "execute_result"
    }
   ],
   "source": [
    "# Loading the data\n",
    "df = pd.read_csv('data/kc_house_data.csv')\n",
    "df.head()"
   ]
  },
  {
   "cell_type": "markdown",
   "metadata": {},
   "source": [
    "The dataset contains 21597 rows and 21 columns. Each row of the dataset contains information about one house.\n",
    "\n",
    "Our objective is to find a way to estimate the value in the \"price\" column using the values in the other columns. By achieving this using this set of data, then we should able to estimate prices of other houses too, simply by asking for information like bedrooms', 'bathrooms', 'sqft_living', 'sqft_lot', 'floors', 'waterfront', 'view', 'condition', 'grade','sqft_above', 'sqft_basement' etc"
   ]
  },
  {
   "cell_type": "markdown",
   "metadata": {},
   "source": [
    "### Data Understanding"
   ]
  },
  {
   "cell_type": "markdown",
   "metadata": {},
   "source": [
    "Obtaing the statistical summary of our dataset such as mean, standard deviation, median etc"
   ]
  },
  {
   "cell_type": "code",
   "execution_count": 79,
   "metadata": {},
   "outputs": [
    {
     "data": {
      "text/html": [
       "<div>\n",
       "<style scoped>\n",
       "    .dataframe tbody tr th:only-of-type {\n",
       "        vertical-align: middle;\n",
       "    }\n",
       "\n",
       "    .dataframe tbody tr th {\n",
       "        vertical-align: top;\n",
       "    }\n",
       "\n",
       "    .dataframe thead th {\n",
       "        text-align: right;\n",
       "    }\n",
       "</style>\n",
       "<table border=\"1\" class=\"dataframe\">\n",
       "  <thead>\n",
       "    <tr style=\"text-align: right;\">\n",
       "      <th></th>\n",
       "      <th>count</th>\n",
       "      <th>mean</th>\n",
       "      <th>std</th>\n",
       "      <th>min</th>\n",
       "      <th>25%</th>\n",
       "      <th>50%</th>\n",
       "      <th>75%</th>\n",
       "      <th>max</th>\n",
       "    </tr>\n",
       "  </thead>\n",
       "  <tbody>\n",
       "    <tr>\n",
       "      <th>price</th>\n",
       "      <td>21377.000000</td>\n",
       "      <td>528969.864574</td>\n",
       "      <td>307899.111883</td>\n",
       "      <td>134000.000000</td>\n",
       "      <td>324500.000000</td>\n",
       "      <td>450000.000000</td>\n",
       "      <td>640000.000000</td>\n",
       "      <td>2450000.000000</td>\n",
       "    </tr>\n",
       "    <tr>\n",
       "      <th>bedrooms</th>\n",
       "      <td>21377.000000</td>\n",
       "      <td>3.372222</td>\n",
       "      <td>0.897779</td>\n",
       "      <td>1.000000</td>\n",
       "      <td>3.000000</td>\n",
       "      <td>3.000000</td>\n",
       "      <td>4.000000</td>\n",
       "      <td>11.000000</td>\n",
       "    </tr>\n",
       "    <tr>\n",
       "      <th>bathrooms</th>\n",
       "      <td>21377.000000</td>\n",
       "      <td>2.062183</td>\n",
       "      <td>0.674673</td>\n",
       "      <td>0.750000</td>\n",
       "      <td>1.750000</td>\n",
       "      <td>2.062183</td>\n",
       "      <td>2.500000</td>\n",
       "      <td>3.500000</td>\n",
       "    </tr>\n",
       "    <tr>\n",
       "      <th>sqft_living</th>\n",
       "      <td>21377.000000</td>\n",
       "      <td>2069.068485</td>\n",
       "      <td>878.199875</td>\n",
       "      <td>370.000000</td>\n",
       "      <td>1430.000000</td>\n",
       "      <td>1910.000000</td>\n",
       "      <td>2540.000000</td>\n",
       "      <td>13540.000000</td>\n",
       "    </tr>\n",
       "    <tr>\n",
       "      <th>sqft_lot</th>\n",
       "      <td>21377.000000</td>\n",
       "      <td>15098.864808</td>\n",
       "      <td>41602.135432</td>\n",
       "      <td>520.000000</td>\n",
       "      <td>5034.000000</td>\n",
       "      <td>7600.000000</td>\n",
       "      <td>10608.000000</td>\n",
       "      <td>1651359.000000</td>\n",
       "    </tr>\n",
       "    <tr>\n",
       "      <th>floors</th>\n",
       "      <td>21377.000000</td>\n",
       "      <td>1.494246</td>\n",
       "      <td>0.539395</td>\n",
       "      <td>1.000000</td>\n",
       "      <td>1.000000</td>\n",
       "      <td>1.500000</td>\n",
       "      <td>2.000000</td>\n",
       "      <td>3.500000</td>\n",
       "    </tr>\n",
       "    <tr>\n",
       "      <th>waterfront</th>\n",
       "      <td>21377.000000</td>\n",
       "      <td>0.005286</td>\n",
       "      <td>0.072515</td>\n",
       "      <td>0.000000</td>\n",
       "      <td>0.000000</td>\n",
       "      <td>0.000000</td>\n",
       "      <td>0.000000</td>\n",
       "      <td>1.000000</td>\n",
       "    </tr>\n",
       "    <tr>\n",
       "      <th>condition</th>\n",
       "      <td>21377.000000</td>\n",
       "      <td>3.411517</td>\n",
       "      <td>0.648902</td>\n",
       "      <td>1.000000</td>\n",
       "      <td>3.000000</td>\n",
       "      <td>3.000000</td>\n",
       "      <td>4.000000</td>\n",
       "      <td>5.000000</td>\n",
       "    </tr>\n",
       "    <tr>\n",
       "      <th>grade</th>\n",
       "      <td>21377.000000</td>\n",
       "      <td>7.650232</td>\n",
       "      <td>1.142286</td>\n",
       "      <td>3.000000</td>\n",
       "      <td>7.000000</td>\n",
       "      <td>7.000000</td>\n",
       "      <td>8.000000</td>\n",
       "      <td>13.000000</td>\n",
       "    </tr>\n",
       "    <tr>\n",
       "      <th>yr_built</th>\n",
       "      <td>21377.000000</td>\n",
       "      <td>1971.100622</td>\n",
       "      <td>29.343720</td>\n",
       "      <td>1900.000000</td>\n",
       "      <td>1952.000000</td>\n",
       "      <td>1975.000000</td>\n",
       "      <td>1997.000000</td>\n",
       "      <td>2015.000000</td>\n",
       "    </tr>\n",
       "    <tr>\n",
       "      <th>zipcode</th>\n",
       "      <td>21377.000000</td>\n",
       "      <td>98077.953501</td>\n",
       "      <td>53.399321</td>\n",
       "      <td>98001.000000</td>\n",
       "      <td>98033.000000</td>\n",
       "      <td>98065.000000</td>\n",
       "      <td>98117.000000</td>\n",
       "      <td>98199.000000</td>\n",
       "    </tr>\n",
       "    <tr>\n",
       "      <th>lat</th>\n",
       "      <td>21377.000000</td>\n",
       "      <td>47.560376</td>\n",
       "      <td>0.138700</td>\n",
       "      <td>47.155900</td>\n",
       "      <td>47.471000</td>\n",
       "      <td>47.572000</td>\n",
       "      <td>47.678500</td>\n",
       "      <td>47.777600</td>\n",
       "    </tr>\n",
       "    <tr>\n",
       "      <th>long</th>\n",
       "      <td>21377.000000</td>\n",
       "      <td>-122.213556</td>\n",
       "      <td>0.141091</td>\n",
       "      <td>-122.519000</td>\n",
       "      <td>-122.328000</td>\n",
       "      <td>-122.229000</td>\n",
       "      <td>-122.124000</td>\n",
       "      <td>-121.315000</td>\n",
       "    </tr>\n",
       "    <tr>\n",
       "      <th>waterfront_miss</th>\n",
       "      <td>21377.000000</td>\n",
       "      <td>0.110025</td>\n",
       "      <td>0.312928</td>\n",
       "      <td>0.000000</td>\n",
       "      <td>0.000000</td>\n",
       "      <td>0.000000</td>\n",
       "      <td>0.000000</td>\n",
       "      <td>1.000000</td>\n",
       "    </tr>\n",
       "  </tbody>\n",
       "</table>\n",
       "</div>"
      ],
      "text/plain": [
       "                       count          mean           std           min  \\\n",
       "price           21377.000000 528969.864574 307899.111883 134000.000000   \n",
       "bedrooms        21377.000000      3.372222      0.897779      1.000000   \n",
       "bathrooms       21377.000000      2.062183      0.674673      0.750000   \n",
       "sqft_living     21377.000000   2069.068485    878.199875    370.000000   \n",
       "sqft_lot        21377.000000  15098.864808  41602.135432    520.000000   \n",
       "floors          21377.000000      1.494246      0.539395      1.000000   \n",
       "waterfront      21377.000000      0.005286      0.072515      0.000000   \n",
       "condition       21377.000000      3.411517      0.648902      1.000000   \n",
       "grade           21377.000000      7.650232      1.142286      3.000000   \n",
       "yr_built        21377.000000   1971.100622     29.343720   1900.000000   \n",
       "zipcode         21377.000000  98077.953501     53.399321  98001.000000   \n",
       "lat             21377.000000     47.560376      0.138700     47.155900   \n",
       "long            21377.000000   -122.213556      0.141091   -122.519000   \n",
       "waterfront_miss 21377.000000      0.110025      0.312928      0.000000   \n",
       "\n",
       "                          25%           50%           75%            max  \n",
       "price           324500.000000 450000.000000 640000.000000 2450000.000000  \n",
       "bedrooms             3.000000      3.000000      4.000000      11.000000  \n",
       "bathrooms            1.750000      2.062183      2.500000       3.500000  \n",
       "sqft_living       1430.000000   1910.000000   2540.000000   13540.000000  \n",
       "sqft_lot          5034.000000   7600.000000  10608.000000 1651359.000000  \n",
       "floors               1.000000      1.500000      2.000000       3.500000  \n",
       "waterfront           0.000000      0.000000      0.000000       1.000000  \n",
       "condition            3.000000      3.000000      4.000000       5.000000  \n",
       "grade                7.000000      7.000000      8.000000      13.000000  \n",
       "yr_built          1952.000000   1975.000000   1997.000000    2015.000000  \n",
       "zipcode          98033.000000  98065.000000  98117.000000   98199.000000  \n",
       "lat                 47.471000     47.572000     47.678500      47.777600  \n",
       "long              -122.328000   -122.229000   -122.124000    -121.315000  \n",
       "waterfront_miss      0.000000      0.000000      0.000000       1.000000  "
      ]
     },
     "execution_count": 79,
     "metadata": {},
     "output_type": "execute_result"
    }
   ],
   "source": [
    "#Obtaining the statistical summary of the data set\n",
    "df.describe().transpose()"
   ]
  },
  {
   "cell_type": "markdown",
   "metadata": {},
   "source": [
    "Checking for more information on our data"
   ]
  },
  {
   "cell_type": "code",
   "execution_count": 5,
   "metadata": {},
   "outputs": [
    {
     "name": "stdout",
     "output_type": "stream",
     "text": [
      "<class 'pandas.core.frame.DataFrame'>\n",
      "RangeIndex: 21597 entries, 0 to 21596\n",
      "Data columns (total 21 columns):\n",
      " #   Column         Non-Null Count  Dtype  \n",
      "---  ------         --------------  -----  \n",
      " 0   id             21597 non-null  int64  \n",
      " 1   date           21597 non-null  object \n",
      " 2   price          21597 non-null  float64\n",
      " 3   bedrooms       21597 non-null  int64  \n",
      " 4   bathrooms      21597 non-null  float64\n",
      " 5   sqft_living    21597 non-null  int64  \n",
      " 6   sqft_lot       21597 non-null  int64  \n",
      " 7   floors         21597 non-null  float64\n",
      " 8   waterfront     19221 non-null  object \n",
      " 9   view           21534 non-null  object \n",
      " 10  condition      21597 non-null  object \n",
      " 11  grade          21597 non-null  object \n",
      " 12  sqft_above     21597 non-null  int64  \n",
      " 13  sqft_basement  21597 non-null  object \n",
      " 14  yr_built       21597 non-null  int64  \n",
      " 15  yr_renovated   17755 non-null  float64\n",
      " 16  zipcode        21597 non-null  int64  \n",
      " 17  lat            21597 non-null  float64\n",
      " 18  long           21597 non-null  float64\n",
      " 19  sqft_living15  21597 non-null  int64  \n",
      " 20  sqft_lot15     21597 non-null  int64  \n",
      "dtypes: float64(6), int64(9), object(6)\n",
      "memory usage: 3.5+ MB\n"
     ]
    }
   ],
   "source": [
    "# Get more infomation on the data\n",
    "df.info()"
   ]
  },
  {
   "cell_type": "markdown",
   "metadata": {},
   "source": [
    "Checking for any missing values in our data"
   ]
  },
  {
   "cell_type": "code",
   "execution_count": 6,
   "metadata": {},
   "outputs": [
    {
     "data": {
      "text/plain": [
       "id                  0\n",
       "date                0\n",
       "price               0\n",
       "bedrooms            0\n",
       "bathrooms           0\n",
       "sqft_living         0\n",
       "sqft_lot            0\n",
       "floors              0\n",
       "waterfront       2376\n",
       "view               63\n",
       "condition           0\n",
       "grade               0\n",
       "sqft_above          0\n",
       "sqft_basement       0\n",
       "yr_built            0\n",
       "yr_renovated     3842\n",
       "zipcode             0\n",
       "lat                 0\n",
       "long                0\n",
       "sqft_living15       0\n",
       "sqft_lot15          0\n",
       "dtype: int64"
      ]
     },
     "execution_count": 6,
     "metadata": {},
     "output_type": "execute_result"
    }
   ],
   "source": [
    "#Checking for missing values\n",
    "df.isnull().sum()"
   ]
  },
  {
   "cell_type": "markdown",
   "metadata": {},
   "source": [
    "#### Data Cleaning / Preparation"
   ]
  },
  {
   "cell_type": "markdown",
   "metadata": {},
   "source": [
    "Data preparation is the process of cleaning and transforming raw data prior to processing and analysis"
   ]
  },
  {
   "cell_type": "markdown",
   "metadata": {},
   "source": [
    "Dropping columns that will not be usefull in our analysis"
   ]
  },
  {
   "cell_type": "code",
   "execution_count": 7,
   "metadata": {
    "scrolled": true
   },
   "outputs": [
    {
     "data": {
      "text/html": [
       "<div>\n",
       "<style scoped>\n",
       "    .dataframe tbody tr th:only-of-type {\n",
       "        vertical-align: middle;\n",
       "    }\n",
       "\n",
       "    .dataframe tbody tr th {\n",
       "        vertical-align: top;\n",
       "    }\n",
       "\n",
       "    .dataframe thead th {\n",
       "        text-align: right;\n",
       "    }\n",
       "</style>\n",
       "<table border=\"1\" class=\"dataframe\">\n",
       "  <thead>\n",
       "    <tr style=\"text-align: right;\">\n",
       "      <th></th>\n",
       "      <th>price</th>\n",
       "      <th>bedrooms</th>\n",
       "      <th>bathrooms</th>\n",
       "      <th>sqft_living</th>\n",
       "      <th>sqft_lot</th>\n",
       "      <th>floors</th>\n",
       "      <th>waterfront</th>\n",
       "      <th>condition</th>\n",
       "      <th>grade</th>\n",
       "      <th>yr_built</th>\n",
       "      <th>zipcode</th>\n",
       "      <th>lat</th>\n",
       "      <th>long</th>\n",
       "    </tr>\n",
       "  </thead>\n",
       "  <tbody>\n",
       "    <tr>\n",
       "      <th>0</th>\n",
       "      <td>221900.0</td>\n",
       "      <td>3</td>\n",
       "      <td>1.00</td>\n",
       "      <td>1180</td>\n",
       "      <td>5650</td>\n",
       "      <td>1.0</td>\n",
       "      <td>NaN</td>\n",
       "      <td>Average</td>\n",
       "      <td>7 Average</td>\n",
       "      <td>1955</td>\n",
       "      <td>98178</td>\n",
       "      <td>47.5112</td>\n",
       "      <td>-122.257</td>\n",
       "    </tr>\n",
       "    <tr>\n",
       "      <th>1</th>\n",
       "      <td>538000.0</td>\n",
       "      <td>3</td>\n",
       "      <td>2.25</td>\n",
       "      <td>2570</td>\n",
       "      <td>7242</td>\n",
       "      <td>2.0</td>\n",
       "      <td>NO</td>\n",
       "      <td>Average</td>\n",
       "      <td>7 Average</td>\n",
       "      <td>1951</td>\n",
       "      <td>98125</td>\n",
       "      <td>47.7210</td>\n",
       "      <td>-122.319</td>\n",
       "    </tr>\n",
       "    <tr>\n",
       "      <th>2</th>\n",
       "      <td>180000.0</td>\n",
       "      <td>2</td>\n",
       "      <td>1.00</td>\n",
       "      <td>770</td>\n",
       "      <td>10000</td>\n",
       "      <td>1.0</td>\n",
       "      <td>NO</td>\n",
       "      <td>Average</td>\n",
       "      <td>6 Low Average</td>\n",
       "      <td>1933</td>\n",
       "      <td>98028</td>\n",
       "      <td>47.7379</td>\n",
       "      <td>-122.233</td>\n",
       "    </tr>\n",
       "    <tr>\n",
       "      <th>3</th>\n",
       "      <td>604000.0</td>\n",
       "      <td>4</td>\n",
       "      <td>3.00</td>\n",
       "      <td>1960</td>\n",
       "      <td>5000</td>\n",
       "      <td>1.0</td>\n",
       "      <td>NO</td>\n",
       "      <td>Very Good</td>\n",
       "      <td>7 Average</td>\n",
       "      <td>1965</td>\n",
       "      <td>98136</td>\n",
       "      <td>47.5208</td>\n",
       "      <td>-122.393</td>\n",
       "    </tr>\n",
       "    <tr>\n",
       "      <th>4</th>\n",
       "      <td>510000.0</td>\n",
       "      <td>3</td>\n",
       "      <td>2.00</td>\n",
       "      <td>1680</td>\n",
       "      <td>8080</td>\n",
       "      <td>1.0</td>\n",
       "      <td>NO</td>\n",
       "      <td>Average</td>\n",
       "      <td>8 Good</td>\n",
       "      <td>1987</td>\n",
       "      <td>98074</td>\n",
       "      <td>47.6168</td>\n",
       "      <td>-122.045</td>\n",
       "    </tr>\n",
       "    <tr>\n",
       "      <th>...</th>\n",
       "      <td>...</td>\n",
       "      <td>...</td>\n",
       "      <td>...</td>\n",
       "      <td>...</td>\n",
       "      <td>...</td>\n",
       "      <td>...</td>\n",
       "      <td>...</td>\n",
       "      <td>...</td>\n",
       "      <td>...</td>\n",
       "      <td>...</td>\n",
       "      <td>...</td>\n",
       "      <td>...</td>\n",
       "      <td>...</td>\n",
       "    </tr>\n",
       "    <tr>\n",
       "      <th>21592</th>\n",
       "      <td>360000.0</td>\n",
       "      <td>3</td>\n",
       "      <td>2.50</td>\n",
       "      <td>1530</td>\n",
       "      <td>1131</td>\n",
       "      <td>3.0</td>\n",
       "      <td>NO</td>\n",
       "      <td>Average</td>\n",
       "      <td>8 Good</td>\n",
       "      <td>2009</td>\n",
       "      <td>98103</td>\n",
       "      <td>47.6993</td>\n",
       "      <td>-122.346</td>\n",
       "    </tr>\n",
       "    <tr>\n",
       "      <th>21593</th>\n",
       "      <td>400000.0</td>\n",
       "      <td>4</td>\n",
       "      <td>2.50</td>\n",
       "      <td>2310</td>\n",
       "      <td>5813</td>\n",
       "      <td>2.0</td>\n",
       "      <td>NO</td>\n",
       "      <td>Average</td>\n",
       "      <td>8 Good</td>\n",
       "      <td>2014</td>\n",
       "      <td>98146</td>\n",
       "      <td>47.5107</td>\n",
       "      <td>-122.362</td>\n",
       "    </tr>\n",
       "    <tr>\n",
       "      <th>21594</th>\n",
       "      <td>402101.0</td>\n",
       "      <td>2</td>\n",
       "      <td>0.75</td>\n",
       "      <td>1020</td>\n",
       "      <td>1350</td>\n",
       "      <td>2.0</td>\n",
       "      <td>NO</td>\n",
       "      <td>Average</td>\n",
       "      <td>7 Average</td>\n",
       "      <td>2009</td>\n",
       "      <td>98144</td>\n",
       "      <td>47.5944</td>\n",
       "      <td>-122.299</td>\n",
       "    </tr>\n",
       "    <tr>\n",
       "      <th>21595</th>\n",
       "      <td>400000.0</td>\n",
       "      <td>3</td>\n",
       "      <td>2.50</td>\n",
       "      <td>1600</td>\n",
       "      <td>2388</td>\n",
       "      <td>2.0</td>\n",
       "      <td>NaN</td>\n",
       "      <td>Average</td>\n",
       "      <td>8 Good</td>\n",
       "      <td>2004</td>\n",
       "      <td>98027</td>\n",
       "      <td>47.5345</td>\n",
       "      <td>-122.069</td>\n",
       "    </tr>\n",
       "    <tr>\n",
       "      <th>21596</th>\n",
       "      <td>325000.0</td>\n",
       "      <td>2</td>\n",
       "      <td>0.75</td>\n",
       "      <td>1020</td>\n",
       "      <td>1076</td>\n",
       "      <td>2.0</td>\n",
       "      <td>NO</td>\n",
       "      <td>Average</td>\n",
       "      <td>7 Average</td>\n",
       "      <td>2008</td>\n",
       "      <td>98144</td>\n",
       "      <td>47.5941</td>\n",
       "      <td>-122.299</td>\n",
       "    </tr>\n",
       "  </tbody>\n",
       "</table>\n",
       "<p>21597 rows × 13 columns</p>\n",
       "</div>"
      ],
      "text/plain": [
       "          price  bedrooms  bathrooms  sqft_living  sqft_lot  floors  \\\n",
       "0      221900.0         3       1.00         1180      5650     1.0   \n",
       "1      538000.0         3       2.25         2570      7242     2.0   \n",
       "2      180000.0         2       1.00          770     10000     1.0   \n",
       "3      604000.0         4       3.00         1960      5000     1.0   \n",
       "4      510000.0         3       2.00         1680      8080     1.0   \n",
       "...         ...       ...        ...          ...       ...     ...   \n",
       "21592  360000.0         3       2.50         1530      1131     3.0   \n",
       "21593  400000.0         4       2.50         2310      5813     2.0   \n",
       "21594  402101.0         2       0.75         1020      1350     2.0   \n",
       "21595  400000.0         3       2.50         1600      2388     2.0   \n",
       "21596  325000.0         2       0.75         1020      1076     2.0   \n",
       "\n",
       "      waterfront  condition          grade  yr_built  zipcode      lat  \\\n",
       "0            NaN    Average      7 Average      1955    98178  47.5112   \n",
       "1             NO    Average      7 Average      1951    98125  47.7210   \n",
       "2             NO    Average  6 Low Average      1933    98028  47.7379   \n",
       "3             NO  Very Good      7 Average      1965    98136  47.5208   \n",
       "4             NO    Average         8 Good      1987    98074  47.6168   \n",
       "...          ...        ...            ...       ...      ...      ...   \n",
       "21592         NO    Average         8 Good      2009    98103  47.6993   \n",
       "21593         NO    Average         8 Good      2014    98146  47.5107   \n",
       "21594         NO    Average      7 Average      2009    98144  47.5944   \n",
       "21595        NaN    Average         8 Good      2004    98027  47.5345   \n",
       "21596         NO    Average      7 Average      2008    98144  47.5941   \n",
       "\n",
       "          long  \n",
       "0     -122.257  \n",
       "1     -122.319  \n",
       "2     -122.233  \n",
       "3     -122.393  \n",
       "4     -122.045  \n",
       "...        ...  \n",
       "21592 -122.346  \n",
       "21593 -122.362  \n",
       "21594 -122.299  \n",
       "21595 -122.069  \n",
       "21596 -122.299  \n",
       "\n",
       "[21597 rows x 13 columns]"
      ]
     },
     "execution_count": 7,
     "metadata": {},
     "output_type": "execute_result"
    }
   ],
   "source": [
    "df_cleaned = df.drop(['id','date','view','sqft_living15','sqft_lot15','sqft_basement',\"sqft_above\",'yr_renovated'], axis = 1)\n",
    "df_cleaned"
   ]
  },
  {
   "cell_type": "code",
   "execution_count": 8,
   "metadata": {},
   "outputs": [
    {
     "name": "stdout",
     "output_type": "stream",
     "text": [
      "<class 'pandas.core.frame.DataFrame'>\n",
      "RangeIndex: 21597 entries, 0 to 21596\n",
      "Data columns (total 13 columns):\n",
      " #   Column       Non-Null Count  Dtype  \n",
      "---  ------       --------------  -----  \n",
      " 0   price        21597 non-null  float64\n",
      " 1   bedrooms     21597 non-null  int64  \n",
      " 2   bathrooms    21597 non-null  float64\n",
      " 3   sqft_living  21597 non-null  int64  \n",
      " 4   sqft_lot     21597 non-null  int64  \n",
      " 5   floors       21597 non-null  float64\n",
      " 6   waterfront   19221 non-null  object \n",
      " 7   condition    21597 non-null  object \n",
      " 8   grade        21597 non-null  object \n",
      " 9   yr_built     21597 non-null  int64  \n",
      " 10  zipcode      21597 non-null  int64  \n",
      " 11  lat          21597 non-null  float64\n",
      " 12  long         21597 non-null  float64\n",
      "dtypes: float64(5), int64(5), object(3)\n",
      "memory usage: 2.1+ MB\n"
     ]
    }
   ],
   "source": [
    "#Checking information of the data after dropping the columns\n",
    "df_cleaned.info()"
   ]
  },
  {
   "cell_type": "markdown",
   "metadata": {},
   "source": [
    "Checking to see if there are any missing values in our data"
   ]
  },
  {
   "cell_type": "code",
   "execution_count": 9,
   "metadata": {},
   "outputs": [
    {
     "data": {
      "text/plain": [
       "price             0\n",
       "bedrooms          0\n",
       "bathrooms         0\n",
       "sqft_living       0\n",
       "sqft_lot          0\n",
       "floors            0\n",
       "waterfront     2376\n",
       "condition         0\n",
       "grade             0\n",
       "yr_built          0\n",
       "zipcode           0\n",
       "lat               0\n",
       "long              0\n",
       "dtype: int64"
      ]
     },
     "execution_count": 9,
     "metadata": {},
     "output_type": "execute_result"
    }
   ],
   "source": [
    "#Checking for null values in cleaned dataset\n",
    "df_cleaned.isnull().sum()"
   ]
  },
  {
   "cell_type": "markdown",
   "metadata": {},
   "source": [
    "We can see that the waterfront column has missing values therefore we go ahead and replace them with the median.\n"
   ]
  },
  {
   "cell_type": "code",
   "execution_count": 10,
   "metadata": {},
   "outputs": [],
   "source": [
    "\n",
    "#Create the Missing Value Indicator Column ('waterfront_miss'):\n",
    "df_cleaned['waterfront_miss'] = df_cleaned['waterfront'].isna().astype(int)\n",
    "\n",
    "#Replace 'NO' with 0 and 'YES' with 1:\n",
    "df_cleaned.replace({'NO': 0, 'YES': 1}, inplace=True)\n",
    "\n",
    "#Impute Missing Values in 'waterfront' with the Median:\n",
    "median_waterfront = df_cleaned['waterfront'].median()\n",
    "df_cleaned['waterfront'].fillna(median_waterfront, inplace=True)"
   ]
  },
  {
   "cell_type": "code",
   "execution_count": 11,
   "metadata": {},
   "outputs": [
    {
     "data": {
      "text/plain": [
       "0.0    21451\n",
       "1.0      146\n",
       "Name: waterfront, dtype: int64"
      ]
     },
     "execution_count": 11,
     "metadata": {},
     "output_type": "execute_result"
    }
   ],
   "source": [
    "df_cleaned['waterfront'].value_counts()"
   ]
  },
  {
   "cell_type": "code",
   "execution_count": 12,
   "metadata": {},
   "outputs": [
    {
     "data": {
      "text/plain": [
       "4"
      ]
     },
     "execution_count": 12,
     "metadata": {},
     "output_type": "execute_result"
    }
   ],
   "source": [
    "#Checking for duplicates\n",
    "df_cleaned.duplicated().sum()"
   ]
  },
  {
   "cell_type": "code",
   "execution_count": 13,
   "metadata": {},
   "outputs": [],
   "source": [
    "#removing duplicates\n",
    "df_cleaned= df_cleaned.drop_duplicates()\n"
   ]
  },
  {
   "cell_type": "code",
   "execution_count": 82,
   "metadata": {},
   "outputs": [
    {
     "name": "stdout",
     "output_type": "stream",
     "text": [
      "450000.000000    172\n",
      "350000.000000    172\n",
      "550000.000000    159\n",
      "500000.000000    152\n",
      "425000.000000    150\n",
      "                ... \n",
      "870515.000000      1\n",
      "336950.000000      1\n",
      "386100.000000      1\n",
      "176250.000000      1\n",
      "884744.000000      1\n",
      "Name: price, Length: 3622, dtype: int64\n",
      "\n",
      "3     9821\n",
      "4     6882\n",
      "2     2759\n",
      "5     1601\n",
      "6      272\n",
      "1      196\n",
      "7       38\n",
      "8       13\n",
      "9        6\n",
      "10       3\n",
      "11       1\n",
      "33       1\n",
      "Name: bedrooms, dtype: int64\n",
      "\n",
      "2.500000    5375\n",
      "1.000000    3851\n",
      "1.750000    3048\n",
      "2.250000    2046\n",
      "2.000000    1929\n",
      "1.500000    1445\n",
      "2.750000    1185\n",
      "3.000000     753\n",
      "3.500000     731\n",
      "3.250000     589\n",
      "3.750000     155\n",
      "4.000000     136\n",
      "4.500000     100\n",
      "4.250000      79\n",
      "0.750000      71\n",
      "4.750000      23\n",
      "5.000000      21\n",
      "5.250000      13\n",
      "5.500000      10\n",
      "1.250000       9\n",
      "6.000000       6\n",
      "5.750000       4\n",
      "0.500000       4\n",
      "8.000000       2\n",
      "6.250000       2\n",
      "6.750000       2\n",
      "6.500000       2\n",
      "7.500000       1\n",
      "7.750000       1\n",
      "Name: bathrooms, dtype: int64\n",
      "\n",
      "1300    138\n",
      "1400    135\n",
      "1440    133\n",
      "1660    129\n",
      "1010    129\n",
      "       ... \n",
      "4970      1\n",
      "2905      1\n",
      "2793      1\n",
      "4810      1\n",
      "1975      1\n",
      "Name: sqft_living, Length: 1034, dtype: int64\n",
      "\n",
      "5000      358\n",
      "6000      290\n",
      "4000      251\n",
      "7200      220\n",
      "4800      119\n",
      "         ... \n",
      "35736       1\n",
      "1448        1\n",
      "38884       1\n",
      "17313       1\n",
      "315374      1\n",
      "Name: sqft_lot, Length: 9776, dtype: int64\n",
      "\n",
      "1.000000    10673\n",
      "2.000000     8232\n",
      "1.500000     1910\n",
      "3.000000      610\n",
      "2.500000      161\n",
      "3.500000        7\n",
      "Name: floors, dtype: int64\n",
      "\n",
      "0.000000    21447\n",
      "1.000000      146\n",
      "Name: waterfront, dtype: int64\n",
      "\n",
      "3    14016\n",
      "4     5677\n",
      "5     1701\n",
      "2      170\n",
      "1       29\n",
      "Name: condition, dtype: int64\n",
      "\n",
      "7     8974\n",
      "8     6064\n",
      "9     2612\n",
      "6     2038\n",
      "10    1134\n",
      "11     399\n",
      "5      242\n",
      "12      89\n",
      "4       27\n",
      "13      13\n",
      "3        1\n",
      "Name: grade, dtype: int64\n",
      "\n",
      "2014    558\n",
      "2006    453\n",
      "2005    450\n",
      "2004    433\n",
      "2003    420\n",
      "       ... \n",
      "1933     30\n",
      "1901     29\n",
      "1902     27\n",
      "1935     24\n",
      "1934     21\n",
      "Name: yr_built, Length: 116, dtype: int64\n",
      "\n",
      "98103    602\n",
      "98038    589\n",
      "98115    583\n",
      "98052    574\n",
      "98117    553\n",
      "        ... \n",
      "98102    104\n",
      "98010    100\n",
      "98024     80\n",
      "98148     57\n",
      "98039     50\n",
      "Name: zipcode, Length: 70, dtype: int64\n",
      "\n",
      "47.532200    17\n",
      "47.684600    17\n",
      "47.549100    17\n",
      "47.662400    17\n",
      "47.671100    16\n",
      "             ..\n",
      "47.310400     1\n",
      "47.468100     1\n",
      "47.281900     1\n",
      "47.609600     1\n",
      "47.430000     1\n",
      "Name: lat, Length: 5033, dtype: int64\n",
      "\n",
      "-122.290000    115\n",
      "-122.300000    111\n",
      "-122.362000    104\n",
      "-122.291000    100\n",
      "-122.372000     99\n",
      "              ... \n",
      "-121.803000      1\n",
      "-121.711000      1\n",
      "-122.454000      1\n",
      "-121.835000      1\n",
      "-121.849000      1\n",
      "Name: long, Length: 751, dtype: int64\n",
      "\n",
      "0    19217\n",
      "1     2376\n",
      "Name: waterfront_miss, dtype: int64\n",
      "\n"
     ]
    }
   ],
   "source": [
    "#Checking the frequency of unique values in each column \n",
    "for val in df_cleaned:\n",
    "   print(df_cleaned[val].value_counts())\n",
    "   print()"
   ]
  },
  {
   "cell_type": "code",
   "execution_count": 15,
   "metadata": {},
   "outputs": [],
   "source": [
    "# Spliting the grade column to a new column which only has the grade value in numbers.\n",
    "\n",
    "df_cleaned.loc[:, 'grade'] = df_cleaned['grade'].str.split(' ').str[0]"
   ]
  },
  {
   "cell_type": "code",
   "execution_count": 16,
   "metadata": {},
   "outputs": [],
   "source": [
    "#Changing the data type of grade from str to int\n",
    "df_cleaned.loc[:, 'grade'] = df_cleaned['grade'].astype(np.int64)"
   ]
  },
  {
   "cell_type": "code",
   "execution_count": 17,
   "metadata": {},
   "outputs": [
    {
     "data": {
      "text/html": [
       "<div>\n",
       "<style scoped>\n",
       "    .dataframe tbody tr th:only-of-type {\n",
       "        vertical-align: middle;\n",
       "    }\n",
       "\n",
       "    .dataframe tbody tr th {\n",
       "        vertical-align: top;\n",
       "    }\n",
       "\n",
       "    .dataframe thead th {\n",
       "        text-align: right;\n",
       "    }\n",
       "</style>\n",
       "<table border=\"1\" class=\"dataframe\">\n",
       "  <thead>\n",
       "    <tr style=\"text-align: right;\">\n",
       "      <th></th>\n",
       "      <th>price</th>\n",
       "      <th>bedrooms</th>\n",
       "      <th>bathrooms</th>\n",
       "      <th>sqft_living</th>\n",
       "      <th>sqft_lot</th>\n",
       "      <th>floors</th>\n",
       "      <th>waterfront</th>\n",
       "      <th>condition</th>\n",
       "      <th>grade</th>\n",
       "      <th>yr_built</th>\n",
       "      <th>zipcode</th>\n",
       "      <th>lat</th>\n",
       "      <th>long</th>\n",
       "      <th>waterfront_miss</th>\n",
       "    </tr>\n",
       "  </thead>\n",
       "  <tbody>\n",
       "    <tr>\n",
       "      <th>0</th>\n",
       "      <td>221900.0</td>\n",
       "      <td>3</td>\n",
       "      <td>1.00</td>\n",
       "      <td>1180</td>\n",
       "      <td>5650</td>\n",
       "      <td>1.0</td>\n",
       "      <td>0.0</td>\n",
       "      <td>3</td>\n",
       "      <td>7</td>\n",
       "      <td>1955</td>\n",
       "      <td>98178</td>\n",
       "      <td>47.5112</td>\n",
       "      <td>-122.257</td>\n",
       "      <td>1</td>\n",
       "    </tr>\n",
       "    <tr>\n",
       "      <th>1</th>\n",
       "      <td>538000.0</td>\n",
       "      <td>3</td>\n",
       "      <td>2.25</td>\n",
       "      <td>2570</td>\n",
       "      <td>7242</td>\n",
       "      <td>2.0</td>\n",
       "      <td>0.0</td>\n",
       "      <td>3</td>\n",
       "      <td>7</td>\n",
       "      <td>1951</td>\n",
       "      <td>98125</td>\n",
       "      <td>47.7210</td>\n",
       "      <td>-122.319</td>\n",
       "      <td>0</td>\n",
       "    </tr>\n",
       "    <tr>\n",
       "      <th>2</th>\n",
       "      <td>180000.0</td>\n",
       "      <td>2</td>\n",
       "      <td>1.00</td>\n",
       "      <td>770</td>\n",
       "      <td>10000</td>\n",
       "      <td>1.0</td>\n",
       "      <td>0.0</td>\n",
       "      <td>3</td>\n",
       "      <td>6</td>\n",
       "      <td>1933</td>\n",
       "      <td>98028</td>\n",
       "      <td>47.7379</td>\n",
       "      <td>-122.233</td>\n",
       "      <td>0</td>\n",
       "    </tr>\n",
       "    <tr>\n",
       "      <th>3</th>\n",
       "      <td>604000.0</td>\n",
       "      <td>4</td>\n",
       "      <td>3.00</td>\n",
       "      <td>1960</td>\n",
       "      <td>5000</td>\n",
       "      <td>1.0</td>\n",
       "      <td>0.0</td>\n",
       "      <td>5</td>\n",
       "      <td>7</td>\n",
       "      <td>1965</td>\n",
       "      <td>98136</td>\n",
       "      <td>47.5208</td>\n",
       "      <td>-122.393</td>\n",
       "      <td>0</td>\n",
       "    </tr>\n",
       "    <tr>\n",
       "      <th>4</th>\n",
       "      <td>510000.0</td>\n",
       "      <td>3</td>\n",
       "      <td>2.00</td>\n",
       "      <td>1680</td>\n",
       "      <td>8080</td>\n",
       "      <td>1.0</td>\n",
       "      <td>0.0</td>\n",
       "      <td>3</td>\n",
       "      <td>8</td>\n",
       "      <td>1987</td>\n",
       "      <td>98074</td>\n",
       "      <td>47.6168</td>\n",
       "      <td>-122.045</td>\n",
       "      <td>0</td>\n",
       "    </tr>\n",
       "    <tr>\n",
       "      <th>...</th>\n",
       "      <td>...</td>\n",
       "      <td>...</td>\n",
       "      <td>...</td>\n",
       "      <td>...</td>\n",
       "      <td>...</td>\n",
       "      <td>...</td>\n",
       "      <td>...</td>\n",
       "      <td>...</td>\n",
       "      <td>...</td>\n",
       "      <td>...</td>\n",
       "      <td>...</td>\n",
       "      <td>...</td>\n",
       "      <td>...</td>\n",
       "      <td>...</td>\n",
       "    </tr>\n",
       "    <tr>\n",
       "      <th>21592</th>\n",
       "      <td>360000.0</td>\n",
       "      <td>3</td>\n",
       "      <td>2.50</td>\n",
       "      <td>1530</td>\n",
       "      <td>1131</td>\n",
       "      <td>3.0</td>\n",
       "      <td>0.0</td>\n",
       "      <td>3</td>\n",
       "      <td>8</td>\n",
       "      <td>2009</td>\n",
       "      <td>98103</td>\n",
       "      <td>47.6993</td>\n",
       "      <td>-122.346</td>\n",
       "      <td>0</td>\n",
       "    </tr>\n",
       "    <tr>\n",
       "      <th>21593</th>\n",
       "      <td>400000.0</td>\n",
       "      <td>4</td>\n",
       "      <td>2.50</td>\n",
       "      <td>2310</td>\n",
       "      <td>5813</td>\n",
       "      <td>2.0</td>\n",
       "      <td>0.0</td>\n",
       "      <td>3</td>\n",
       "      <td>8</td>\n",
       "      <td>2014</td>\n",
       "      <td>98146</td>\n",
       "      <td>47.5107</td>\n",
       "      <td>-122.362</td>\n",
       "      <td>0</td>\n",
       "    </tr>\n",
       "    <tr>\n",
       "      <th>21594</th>\n",
       "      <td>402101.0</td>\n",
       "      <td>2</td>\n",
       "      <td>0.75</td>\n",
       "      <td>1020</td>\n",
       "      <td>1350</td>\n",
       "      <td>2.0</td>\n",
       "      <td>0.0</td>\n",
       "      <td>3</td>\n",
       "      <td>7</td>\n",
       "      <td>2009</td>\n",
       "      <td>98144</td>\n",
       "      <td>47.5944</td>\n",
       "      <td>-122.299</td>\n",
       "      <td>0</td>\n",
       "    </tr>\n",
       "    <tr>\n",
       "      <th>21595</th>\n",
       "      <td>400000.0</td>\n",
       "      <td>3</td>\n",
       "      <td>2.50</td>\n",
       "      <td>1600</td>\n",
       "      <td>2388</td>\n",
       "      <td>2.0</td>\n",
       "      <td>0.0</td>\n",
       "      <td>3</td>\n",
       "      <td>8</td>\n",
       "      <td>2004</td>\n",
       "      <td>98027</td>\n",
       "      <td>47.5345</td>\n",
       "      <td>-122.069</td>\n",
       "      <td>1</td>\n",
       "    </tr>\n",
       "    <tr>\n",
       "      <th>21596</th>\n",
       "      <td>325000.0</td>\n",
       "      <td>2</td>\n",
       "      <td>0.75</td>\n",
       "      <td>1020</td>\n",
       "      <td>1076</td>\n",
       "      <td>2.0</td>\n",
       "      <td>0.0</td>\n",
       "      <td>3</td>\n",
       "      <td>7</td>\n",
       "      <td>2008</td>\n",
       "      <td>98144</td>\n",
       "      <td>47.5941</td>\n",
       "      <td>-122.299</td>\n",
       "      <td>0</td>\n",
       "    </tr>\n",
       "  </tbody>\n",
       "</table>\n",
       "<p>21593 rows × 14 columns</p>\n",
       "</div>"
      ],
      "text/plain": [
       "          price  bedrooms  bathrooms  sqft_living  sqft_lot  floors  \\\n",
       "0      221900.0         3       1.00         1180      5650     1.0   \n",
       "1      538000.0         3       2.25         2570      7242     2.0   \n",
       "2      180000.0         2       1.00          770     10000     1.0   \n",
       "3      604000.0         4       3.00         1960      5000     1.0   \n",
       "4      510000.0         3       2.00         1680      8080     1.0   \n",
       "...         ...       ...        ...          ...       ...     ...   \n",
       "21592  360000.0         3       2.50         1530      1131     3.0   \n",
       "21593  400000.0         4       2.50         2310      5813     2.0   \n",
       "21594  402101.0         2       0.75         1020      1350     2.0   \n",
       "21595  400000.0         3       2.50         1600      2388     2.0   \n",
       "21596  325000.0         2       0.75         1020      1076     2.0   \n",
       "\n",
       "       waterfront  condition  grade  yr_built  zipcode      lat     long  \\\n",
       "0             0.0          3      7      1955    98178  47.5112 -122.257   \n",
       "1             0.0          3      7      1951    98125  47.7210 -122.319   \n",
       "2             0.0          3      6      1933    98028  47.7379 -122.233   \n",
       "3             0.0          5      7      1965    98136  47.5208 -122.393   \n",
       "4             0.0          3      8      1987    98074  47.6168 -122.045   \n",
       "...           ...        ...    ...       ...      ...      ...      ...   \n",
       "21592         0.0          3      8      2009    98103  47.6993 -122.346   \n",
       "21593         0.0          3      8      2014    98146  47.5107 -122.362   \n",
       "21594         0.0          3      7      2009    98144  47.5944 -122.299   \n",
       "21595         0.0          3      8      2004    98027  47.5345 -122.069   \n",
       "21596         0.0          3      7      2008    98144  47.5941 -122.299   \n",
       "\n",
       "       waterfront_miss  \n",
       "0                    1  \n",
       "1                    0  \n",
       "2                    0  \n",
       "3                    0  \n",
       "4                    0  \n",
       "...                ...  \n",
       "21592                0  \n",
       "21593                0  \n",
       "21594                0  \n",
       "21595                1  \n",
       "21596                0  \n",
       "\n",
       "[21593 rows x 14 columns]"
      ]
     },
     "execution_count": 17,
     "metadata": {},
     "output_type": "execute_result"
    }
   ],
   "source": [
    "# Changing  catergorical data in the condition column to numeric\n",
    "\n",
    "df_cleaned.loc[:,'condition'] = df_cleaned['condition'].map({'Poor':1, 'Fair':2, 'Average':3, 'Good':4, 'Very Good':5})\n",
    "df_cleaned"
   ]
  },
  {
   "cell_type": "markdown",
   "metadata": {},
   "source": [
    "This will now make it easier when carrying out statistical measurements."
   ]
  },
  {
   "cell_type": "code",
   "execution_count": 18,
   "metadata": {},
   "outputs": [
    {
     "data": {
      "text/plain": [
       "3    14016\n",
       "4     5677\n",
       "5     1701\n",
       "2      170\n",
       "1       29\n",
       "Name: condition, dtype: int64"
      ]
     },
     "execution_count": 18,
     "metadata": {},
     "output_type": "execute_result"
    }
   ],
   "source": [
    "# From this we can tell the condition of most houses is average.\n",
    "df_cleaned['condition'].value_counts()"
   ]
  },
  {
   "cell_type": "code",
   "execution_count": 19,
   "metadata": {},
   "outputs": [
    {
     "name": "stdout",
     "output_type": "stream",
     "text": [
      "<class 'pandas.core.frame.DataFrame'>\n",
      "Int64Index: 21593 entries, 0 to 21596\n",
      "Data columns (total 14 columns):\n",
      " #   Column           Non-Null Count  Dtype  \n",
      "---  ------           --------------  -----  \n",
      " 0   price            21593 non-null  float64\n",
      " 1   bedrooms         21593 non-null  int64  \n",
      " 2   bathrooms        21593 non-null  float64\n",
      " 3   sqft_living      21593 non-null  int64  \n",
      " 4   sqft_lot         21593 non-null  int64  \n",
      " 5   floors           21593 non-null  float64\n",
      " 6   waterfront       21593 non-null  float64\n",
      " 7   condition        21593 non-null  int64  \n",
      " 8   grade            21593 non-null  int64  \n",
      " 9   yr_built         21593 non-null  int64  \n",
      " 10  zipcode          21593 non-null  int64  \n",
      " 11  lat              21593 non-null  float64\n",
      " 12  long             21593 non-null  float64\n",
      " 13  waterfront_miss  21593 non-null  int32  \n",
      "dtypes: float64(6), int32(1), int64(7)\n",
      "memory usage: 2.4 MB\n"
     ]
    }
   ],
   "source": [
    "#Checking data information\n",
    "df_cleaned.info()"
   ]
  },
  {
   "cell_type": "markdown",
   "metadata": {},
   "source": [
    "Our data is now cleaned and ready to be analysed"
   ]
  },
  {
   "cell_type": "markdown",
   "metadata": {},
   "source": [
    "## Exploratory Data Analysis"
   ]
  },
  {
   "cell_type": "markdown",
   "metadata": {},
   "source": [
    "Exploratory Data Analysis involves exploration and assessment the dataset to uncover its main characteristics, using various tools and methods such as visualizations and statistics."
   ]
  },
  {
   "cell_type": "markdown",
   "metadata": {},
   "source": [
    "Data Distribution"
   ]
  },
  {
   "cell_type": "markdown",
   "metadata": {},
   "source": [
    "## The relationship between Target and predictor variable"
   ]
  },
  {
   "cell_type": "markdown",
   "metadata": {},
   "source": [
    "To examine and visualize the relationship between variables"
   ]
  },
  {
   "cell_type": "code",
   "execution_count": 20,
   "metadata": {},
   "outputs": [
    {
     "data": {
      "text/plain": [
       "count    2.159300e+04\n",
       "mean     5.403073e+05\n",
       "std      3.673971e+05\n",
       "min      7.800000e+04\n",
       "25%      3.220000e+05\n",
       "50%      4.500000e+05\n",
       "75%      6.450000e+05\n",
       "max      7.700000e+06\n",
       "Name: price, dtype: float64"
      ]
     },
     "execution_count": 20,
     "metadata": {},
     "output_type": "execute_result"
    }
   ],
   "source": [
    "#Checking the statistical summary of price column\n",
    "df_cleaned['price'].describe()"
   ]
  },
  {
   "cell_type": "code",
   "execution_count": 21,
   "metadata": {},
   "outputs": [
    {
     "data": {
      "image/png": "[encoded data removed]",
      "text/plain": [
       "<Figure size 1080x720 with 2 Axes>"
      ]
     },
     "metadata": {},
     "output_type": "display_data"
    }
   ],
   "source": [
    "# creating two plots to visualize the distribution of a 'price' column in the cleaned Dataframe\n",
    "fig = plt.figure(figsize=(15,10))\n",
    "ax1 = fig.add_subplot(211)\n",
    "ax1 = df_cleaned['price'].plot.box()\n",
    "ax2 = fig.add_subplot(212)\n",
    "ax2 = sns.histplot(data=df_cleaned, x='price')"
   ]
  },
  {
   "cell_type": "code",
   "execution_count": 22,
   "metadata": {},
   "outputs": [
    {
     "name": "stdout",
     "output_type": "stream",
     "text": [
      "The maximum price is: 7700000.0\n",
      "The mean price is: 540307.3055156764\n",
      "The median price is: 450000.0\n",
      "The mode price is: 0    350000.0\n",
      "1    450000.0\n",
      "dtype: float64\n"
     ]
    }
   ],
   "source": [
    "# Calculate the mean, median, and mode and the max_price\n",
    "# Calculate the mean\n",
    "mean_price = df_cleaned['price'].mean()\n",
    "\n",
    "# Calculate the median\n",
    "median_price = df_cleaned['price'].median()\n",
    "\n",
    "# Calculate the mode\n",
    "mode_price = df_cleaned['price'].mode()\n",
    "# Calculate Maximum price \n",
    "max_price = df_cleaned['price'].max()\n",
    "\n",
    "print(f\"The maximum price is: {max_price}\")\n",
    "print(f\"The mean price is: {mean_price}\")\n",
    "print(f\"The median price is: {median_price}\")\n",
    "print(f\"The mode price is: {mode_price}\")"
   ]
  },
  {
   "cell_type": "markdown",
   "metadata": {},
   "source": [
    "**Comments**\n",
    "- Observations: The Price data is heavily skewed because it is apparent there are many outliers. The average price of a house in King County is 540k while the median price is 450k which can be associated with affordability and the Middle class members of the society. the highest priced house/home is at $7.7 Million which is significaqntly higher compared to the average price\n",
    "* Action: Remove the Outliers in the price field/column because most clients of the expected clients are middle class hence the target clients for all investors. "
   ]
  },
  {
   "cell_type": "code",
   "execution_count": 23,
   "metadata": {},
   "outputs": [
    {
     "data": {
      "text/html": [
       "<div>\n",
       "<style scoped>\n",
       "    .dataframe tbody tr th:only-of-type {\n",
       "        vertical-align: middle;\n",
       "    }\n",
       "\n",
       "    .dataframe tbody tr th {\n",
       "        vertical-align: top;\n",
       "    }\n",
       "\n",
       "    .dataframe thead th {\n",
       "        text-align: right;\n",
       "    }\n",
       "</style>\n",
       "<table border=\"1\" class=\"dataframe\">\n",
       "  <thead>\n",
       "    <tr style=\"text-align: right;\">\n",
       "      <th></th>\n",
       "      <th>price</th>\n",
       "      <th>bedrooms</th>\n",
       "      <th>bathrooms</th>\n",
       "      <th>sqft_living</th>\n",
       "      <th>sqft_lot</th>\n",
       "      <th>floors</th>\n",
       "      <th>waterfront</th>\n",
       "      <th>condition</th>\n",
       "      <th>grade</th>\n",
       "      <th>yr_built</th>\n",
       "      <th>zipcode</th>\n",
       "      <th>lat</th>\n",
       "      <th>long</th>\n",
       "      <th>waterfront_miss</th>\n",
       "    </tr>\n",
       "  </thead>\n",
       "  <tbody>\n",
       "    <tr>\n",
       "      <th>0</th>\n",
       "      <td>221900.0</td>\n",
       "      <td>3</td>\n",
       "      <td>1.00</td>\n",
       "      <td>1180</td>\n",
       "      <td>5650</td>\n",
       "      <td>1.0</td>\n",
       "      <td>0.0</td>\n",
       "      <td>3</td>\n",
       "      <td>7</td>\n",
       "      <td>1955</td>\n",
       "      <td>98178</td>\n",
       "      <td>47.5112</td>\n",
       "      <td>-122.257</td>\n",
       "      <td>1</td>\n",
       "    </tr>\n",
       "    <tr>\n",
       "      <th>1</th>\n",
       "      <td>538000.0</td>\n",
       "      <td>3</td>\n",
       "      <td>2.25</td>\n",
       "      <td>2570</td>\n",
       "      <td>7242</td>\n",
       "      <td>2.0</td>\n",
       "      <td>0.0</td>\n",
       "      <td>3</td>\n",
       "      <td>7</td>\n",
       "      <td>1951</td>\n",
       "      <td>98125</td>\n",
       "      <td>47.7210</td>\n",
       "      <td>-122.319</td>\n",
       "      <td>0</td>\n",
       "    </tr>\n",
       "    <tr>\n",
       "      <th>2</th>\n",
       "      <td>180000.0</td>\n",
       "      <td>2</td>\n",
       "      <td>1.00</td>\n",
       "      <td>770</td>\n",
       "      <td>10000</td>\n",
       "      <td>1.0</td>\n",
       "      <td>0.0</td>\n",
       "      <td>3</td>\n",
       "      <td>6</td>\n",
       "      <td>1933</td>\n",
       "      <td>98028</td>\n",
       "      <td>47.7379</td>\n",
       "      <td>-122.233</td>\n",
       "      <td>0</td>\n",
       "    </tr>\n",
       "    <tr>\n",
       "      <th>3</th>\n",
       "      <td>604000.0</td>\n",
       "      <td>4</td>\n",
       "      <td>3.00</td>\n",
       "      <td>1960</td>\n",
       "      <td>5000</td>\n",
       "      <td>1.0</td>\n",
       "      <td>0.0</td>\n",
       "      <td>5</td>\n",
       "      <td>7</td>\n",
       "      <td>1965</td>\n",
       "      <td>98136</td>\n",
       "      <td>47.5208</td>\n",
       "      <td>-122.393</td>\n",
       "      <td>0</td>\n",
       "    </tr>\n",
       "    <tr>\n",
       "      <th>4</th>\n",
       "      <td>510000.0</td>\n",
       "      <td>3</td>\n",
       "      <td>2.00</td>\n",
       "      <td>1680</td>\n",
       "      <td>8080</td>\n",
       "      <td>1.0</td>\n",
       "      <td>0.0</td>\n",
       "      <td>3</td>\n",
       "      <td>8</td>\n",
       "      <td>1987</td>\n",
       "      <td>98074</td>\n",
       "      <td>47.6168</td>\n",
       "      <td>-122.045</td>\n",
       "      <td>0</td>\n",
       "    </tr>\n",
       "    <tr>\n",
       "      <th>...</th>\n",
       "      <td>...</td>\n",
       "      <td>...</td>\n",
       "      <td>...</td>\n",
       "      <td>...</td>\n",
       "      <td>...</td>\n",
       "      <td>...</td>\n",
       "      <td>...</td>\n",
       "      <td>...</td>\n",
       "      <td>...</td>\n",
       "      <td>...</td>\n",
       "      <td>...</td>\n",
       "      <td>...</td>\n",
       "      <td>...</td>\n",
       "      <td>...</td>\n",
       "    </tr>\n",
       "    <tr>\n",
       "      <th>21592</th>\n",
       "      <td>360000.0</td>\n",
       "      <td>3</td>\n",
       "      <td>2.50</td>\n",
       "      <td>1530</td>\n",
       "      <td>1131</td>\n",
       "      <td>3.0</td>\n",
       "      <td>0.0</td>\n",
       "      <td>3</td>\n",
       "      <td>8</td>\n",
       "      <td>2009</td>\n",
       "      <td>98103</td>\n",
       "      <td>47.6993</td>\n",
       "      <td>-122.346</td>\n",
       "      <td>0</td>\n",
       "    </tr>\n",
       "    <tr>\n",
       "      <th>21593</th>\n",
       "      <td>400000.0</td>\n",
       "      <td>4</td>\n",
       "      <td>2.50</td>\n",
       "      <td>2310</td>\n",
       "      <td>5813</td>\n",
       "      <td>2.0</td>\n",
       "      <td>0.0</td>\n",
       "      <td>3</td>\n",
       "      <td>8</td>\n",
       "      <td>2014</td>\n",
       "      <td>98146</td>\n",
       "      <td>47.5107</td>\n",
       "      <td>-122.362</td>\n",
       "      <td>0</td>\n",
       "    </tr>\n",
       "    <tr>\n",
       "      <th>21594</th>\n",
       "      <td>402101.0</td>\n",
       "      <td>2</td>\n",
       "      <td>0.75</td>\n",
       "      <td>1020</td>\n",
       "      <td>1350</td>\n",
       "      <td>2.0</td>\n",
       "      <td>0.0</td>\n",
       "      <td>3</td>\n",
       "      <td>7</td>\n",
       "      <td>2009</td>\n",
       "      <td>98144</td>\n",
       "      <td>47.5944</td>\n",
       "      <td>-122.299</td>\n",
       "      <td>0</td>\n",
       "    </tr>\n",
       "    <tr>\n",
       "      <th>21595</th>\n",
       "      <td>400000.0</td>\n",
       "      <td>3</td>\n",
       "      <td>2.50</td>\n",
       "      <td>1600</td>\n",
       "      <td>2388</td>\n",
       "      <td>2.0</td>\n",
       "      <td>0.0</td>\n",
       "      <td>3</td>\n",
       "      <td>8</td>\n",
       "      <td>2004</td>\n",
       "      <td>98027</td>\n",
       "      <td>47.5345</td>\n",
       "      <td>-122.069</td>\n",
       "      <td>1</td>\n",
       "    </tr>\n",
       "    <tr>\n",
       "      <th>21596</th>\n",
       "      <td>325000.0</td>\n",
       "      <td>2</td>\n",
       "      <td>0.75</td>\n",
       "      <td>1020</td>\n",
       "      <td>1076</td>\n",
       "      <td>2.0</td>\n",
       "      <td>0.0</td>\n",
       "      <td>3</td>\n",
       "      <td>7</td>\n",
       "      <td>2008</td>\n",
       "      <td>98144</td>\n",
       "      <td>47.5941</td>\n",
       "      <td>-122.299</td>\n",
       "      <td>0</td>\n",
       "    </tr>\n",
       "  </tbody>\n",
       "</table>\n",
       "<p>21377 rows × 14 columns</p>\n",
       "</div>"
      ],
      "text/plain": [
       "          price  bedrooms  bathrooms  sqft_living  sqft_lot  floors  \\\n",
       "0      221900.0         3       1.00         1180      5650     1.0   \n",
       "1      538000.0         3       2.25         2570      7242     2.0   \n",
       "2      180000.0         2       1.00          770     10000     1.0   \n",
       "3      604000.0         4       3.00         1960      5000     1.0   \n",
       "4      510000.0         3       2.00         1680      8080     1.0   \n",
       "...         ...       ...        ...          ...       ...     ...   \n",
       "21592  360000.0         3       2.50         1530      1131     3.0   \n",
       "21593  400000.0         4       2.50         2310      5813     2.0   \n",
       "21594  402101.0         2       0.75         1020      1350     2.0   \n",
       "21595  400000.0         3       2.50         1600      2388     2.0   \n",
       "21596  325000.0         2       0.75         1020      1076     2.0   \n",
       "\n",
       "       waterfront  condition  grade  yr_built  zipcode      lat     long  \\\n",
       "0             0.0          3      7      1955    98178  47.5112 -122.257   \n",
       "1             0.0          3      7      1951    98125  47.7210 -122.319   \n",
       "2             0.0          3      6      1933    98028  47.7379 -122.233   \n",
       "3             0.0          5      7      1965    98136  47.5208 -122.393   \n",
       "4             0.0          3      8      1987    98074  47.6168 -122.045   \n",
       "...           ...        ...    ...       ...      ...      ...      ...   \n",
       "21592         0.0          3      8      2009    98103  47.6993 -122.346   \n",
       "21593         0.0          3      8      2014    98146  47.5107 -122.362   \n",
       "21594         0.0          3      7      2009    98144  47.5944 -122.299   \n",
       "21595         0.0          3      8      2004    98027  47.5345 -122.069   \n",
       "21596         0.0          3      7      2008    98144  47.5941 -122.299   \n",
       "\n",
       "       waterfront_miss  \n",
       "0                    1  \n",
       "1                    0  \n",
       "2                    0  \n",
       "3                    0  \n",
       "4                    0  \n",
       "...                ...  \n",
       "21592                0  \n",
       "21593                0  \n",
       "21594                0  \n",
       "21595                1  \n",
       "21596                0  \n",
       "\n",
       "[21377 rows x 14 columns]"
      ]
     },
     "execution_count": 23,
     "metadata": {},
     "output_type": "execute_result"
    }
   ],
   "source": [
    "df_new = df_cleaned[(df_cleaned.price < df_cleaned.price.quantile(0.995)) & (df_cleaned.price > df_cleaned.price.quantile(.005))].copy()\n",
    "df_new"
   ]
  },
  {
   "cell_type": "code",
   "execution_count": 24,
   "metadata": {},
   "outputs": [],
   "source": [
    "df_filtered= df_new"
   ]
  },
  {
   "cell_type": "markdown",
   "metadata": {},
   "source": [
    "Removed outliers from the price column using quantile"
   ]
  },
  {
   "cell_type": "markdown",
   "metadata": {},
   "source": [
    "### Analyzing Grade"
   ]
  },
  {
   "cell_type": "code",
   "execution_count": 25,
   "metadata": {},
   "outputs": [
    {
     "data": {
      "image/png": "[encoded data removed]",
      "text/plain": [
       "<Figure size 1080x360 with 1 Axes>"
      ]
     },
     "metadata": {},
     "output_type": "display_data"
    }
   ],
   "source": [
    "import seaborn as sns\n",
    "import matplotlib.pyplot as plt\n",
    "\n",
    "# Define a custom color palette with shades of blue, yellow, and orange\n",
    "custom_palette = [\"#ffcc00\", \"#ff9900\", \"#ff6600\", \"#ff3300\", \"#ff0000\", \"#00ccff\", \"#0099ff\", \"#0066ff\", \"#0033ff\", \"#0000ff\"]\n",
    "\n",
    "# Create a boxplot to visualize Price vs Grade with the custom color palette\n",
    "plt.figure(figsize=(15, 5))\n",
    "sns.boxplot(x='grade', y='price', data=df_filtered, palette=custom_palette)\n",
    "\n",
    "# Set labels for the axes\n",
    "plt.xlabel('Grade')\n",
    "plt.ylabel('Price')\n",
    "\n",
    "# Show the plot\n",
    "plt.show()"
   ]
  },
  {
   "cell_type": "markdown",
   "metadata": {},
   "source": [
    "There's relationship between price and grade. The higher the grade, the higher the price."
   ]
  },
  {
   "cell_type": "markdown",
   "metadata": {},
   "source": [
    "### Analyzing square foot living"
   ]
  },
  {
   "cell_type": "code",
   "execution_count": 26,
   "metadata": {},
   "outputs": [
    {
     "data": {
      "text/plain": [
       "<AxesSubplot:xlabel='sqft_living', ylabel='price'>"
      ]
     },
     "execution_count": 26,
     "metadata": {},
     "output_type": "execute_result"
    },
    {
     "data": {
      "image/png": "[encoded data removed]",
      "text/plain": [
       "<Figure size 864x576 with 1 Axes>"
      ]
     },
     "metadata": {},
     "output_type": "display_data"
    }
   ],
   "source": [
    "plt.figure(figsize = (12,8))\n",
    "sns.scatterplot(x='sqft_living',y='price',data=df,color= 'orange')"
   ]
  },
  {
   "cell_type": "markdown",
   "metadata": {},
   "source": [
    "From the graph we can tell that sqft_living is positively correlated to price. It helps conclude that a higher sqft_living results in a higher price."
   ]
  },
  {
   "cell_type": "markdown",
   "metadata": {},
   "source": [
    "### Analyzing Number of Bathrooms"
   ]
  },
  {
   "cell_type": "code",
   "execution_count": 27,
   "metadata": {},
   "outputs": [
    {
     "data": {
      "image/png": "[encoded data removed]",
      "text/plain": [
       "<Figure size 720x432 with 1 Axes>"
      ]
     },
     "metadata": {},
     "output_type": "display_data"
    }
   ],
   "source": [
    "import matplotlib.pyplot as plt\n",
    "import seaborn as sns\n",
    "\n",
    "# Select the 'bathrooms' data\n",
    "bathrooms = df_filtered['bathrooms']\n",
    "\n",
    "# Calculate the mean\n",
    "mean_bathrooms = bathrooms.mean()\n",
    "\n",
    "# Set a Seaborn style\n",
    "sns.set_style(\"whitegrid\")\n",
    "\n",
    "# Create a figure and axis object\n",
    "fig, ax = plt.subplots(figsize=(10, 6))\n",
    "\n",
    "# Create the histogram\n",
    "plt.hist(bathrooms, bins=20, color='skyblue', edgecolor='black', alpha=0.7)\n",
    "plt.xlabel('Number of Bathrooms')\n",
    "plt.ylabel('Frequency')\n",
    "plt.title('Distribution of Number of Bathrooms in King County House Sales Data (2014-2015)')\n",
    "\n",
    "# Add a vertical line at the mean\n",
    "plt.axvline(mean_bathrooms, color='red', linestyle='dashed', linewidth=2, label=f'Mean: {mean_bathrooms:.2f}')\n",
    "\n",
    "# Add grid lines\n",
    "ax.yaxis.grid(True, linestyle='--', alpha=0.6)\n",
    "\n",
    "# Add a legend\n",
    "plt.legend()\n",
    "\n",
    "# Show the plot\n",
    "plt.show()\n"
   ]
  },
  {
   "cell_type": "markdown",
   "metadata": {},
   "source": [
    "Based on this values, the peak(mode) of the data is around 2.5. Most houses have 2-3 bathrooms.\n",
    "This distribution does not have outliers.\n",
    "Based on the mean and the mode, the estimate gives a point for where the center of the data is located."
   ]
  },
  {
   "cell_type": "code",
   "execution_count": 28,
   "metadata": {},
   "outputs": [
    {
     "data": {
      "image/png": "[encoded data removed]",
      "text/plain": [
       "<Figure size 576x432 with 1 Axes>"
      ]
     },
     "metadata": {},
     "output_type": "display_data"
    }
   ],
   "source": [
    "import matplotlib.pyplot as plt\n",
    "import seaborn as sns\n",
    "\n",
    "# Select the 'bathrooms' data\n",
    "bathrooms = df_filtered['bathrooms']\n",
    "\n",
    "# Set a Seaborn style\n",
    "sns.set_style(\"whitegrid\")\n",
    "\n",
    "# Create a figure and axis object\n",
    "fig, ax = plt.subplots(figsize=(8, 6))\n",
    "\n",
    "# Create the horizontal box plot\n",
    "plt.boxplot(bathrooms, vert=False, patch_artist=True, boxprops=dict(facecolor='orange'))\n",
    "\n",
    "# Set labels and title\n",
    "plt.xlabel('Number of Bathrooms')\n",
    "plt.title('Box Plot of Number of Bathrooms in King County House Data (2014-2015)')\n",
    "\n",
    "# Add grid lines\n",
    "ax.xaxis.grid(True, linestyle='--', alpha=0.6)\n",
    "\n",
    "# Show the plot\n",
    "plt.show()"
   ]
  },
  {
   "cell_type": "markdown",
   "metadata": {},
   "source": [
    "The data indicates potential presence of outliers in the data that probably have affected the mean"
   ]
  },
  {
   "cell_type": "code",
   "execution_count": 29,
   "metadata": {},
   "outputs": [],
   "source": [
    "# Calculate the first quartile (Q1) and third quartile (Q3)\n",
    "Q1 = bathrooms.quantile(0.25)\n",
    "Q3 = bathrooms.quantile(0.75)\n",
    "\n",
    "# Calculate the interquartile range (IQR)\n",
    "IQR = Q3 - Q1\n",
    "\n",
    "# Define the lower and upper bounds for outliers\n",
    "lower_bound = Q1 - 1.5 * IQR\n",
    "upper_bound = Q3 + 1.5 * IQR\n",
    "\n",
    "# Replace outliers with NaN in the original \"bathrooms\" column\n",
    "df_filtered['bathrooms'][~((bathrooms >= lower_bound) & (bathrooms <= upper_bound))] = None"
   ]
  },
  {
   "cell_type": "code",
   "execution_count": 30,
   "metadata": {},
   "outputs": [],
   "source": [
    "mean_bathrooms = df_filtered['bathrooms'].mean()\n",
    "df_filtered['bathrooms'].fillna(mean_bathrooms, inplace=True)"
   ]
  },
  {
   "cell_type": "code",
   "execution_count": 31,
   "metadata": {},
   "outputs": [
    {
     "data": {
      "image/png": "[encoded data removed]",
      "text/plain": [
       "<Figure size 576x432 with 1 Axes>"
      ]
     },
     "metadata": {},
     "output_type": "display_data"
    }
   ],
   "source": [
    "import matplotlib.pyplot as plt\n",
    "\n",
    "# Assuming you have removed outliers and updated your DataFrame, df_filtered\n",
    "\n",
    "# Create a box plot for the \"bathrooms\" column with outliers removed\n",
    "plt.figure(figsize=(8, 6))\n",
    "plt.boxplot(df_filtered['bathrooms'].dropna(), vert=False)  # vert=False for a horizontal box plot\n",
    "plt.xlabel('Number of Bathrooms')\n",
    "plt.title('Box Plot of Number of Bathrooms in King County House Sales Data (Outliers Removed)')\n",
    "plt.grid(True)\n",
    "plt.show()"
   ]
  },
  {
   "cell_type": "code",
   "execution_count": 32,
   "metadata": {},
   "outputs": [
    {
     "data": {
      "text/plain": [
       "2.500000    5370\n",
       "1.000000    3756\n",
       "1.750000    3045\n",
       "2.250000    2046\n",
       "2.000000    1927\n",
       "1.500000    1443\n",
       "2.750000    1184\n",
       "3.000000     744\n",
       "3.500000     722\n",
       "3.250000     571\n",
       "2.062183     495\n",
       "0.750000      65\n",
       "1.250000       9\n",
       "Name: bathrooms, dtype: int64"
      ]
     },
     "execution_count": 32,
     "metadata": {},
     "output_type": "execute_result"
    }
   ],
   "source": [
    "df_filtered['bathrooms'].value_counts()"
   ]
  },
  {
   "cell_type": "markdown",
   "metadata": {},
   "source": [
    "Most houses in our dataset have 2 bathrooms"
   ]
  },
  {
   "cell_type": "markdown",
   "metadata": {},
   "source": [
    "### Analyzing Condition"
   ]
  },
  {
   "cell_type": "markdown",
   "metadata": {},
   "source": [
    "#### How does the feature 'Condition' impact house price?\n",
    "\n",
    "For this question, we will be exploring the relationship between the condition rating and house prices. We aim to determine whether houses with different condition rating exhibit varying price trends. This investigation will provide valuable insights into the impacts of condition on the housing market, potentially influencing pricing strategies and buyer preferences."
   ]
  },
  {
   "cell_type": "code",
   "execution_count": 33,
   "metadata": {},
   "outputs": [
    {
     "data": {
      "text/html": [
       "<div>\n",
       "<style scoped>\n",
       "    .dataframe tbody tr th:only-of-type {\n",
       "        vertical-align: middle;\n",
       "    }\n",
       "\n",
       "    .dataframe tbody tr th {\n",
       "        vertical-align: top;\n",
       "    }\n",
       "\n",
       "    .dataframe thead th {\n",
       "        text-align: right;\n",
       "    }\n",
       "</style>\n",
       "<table border=\"1\" class=\"dataframe\">\n",
       "  <thead>\n",
       "    <tr style=\"text-align: right;\">\n",
       "      <th></th>\n",
       "      <th>condition</th>\n",
       "    </tr>\n",
       "  </thead>\n",
       "  <tbody>\n",
       "    <tr>\n",
       "      <th>3</th>\n",
       "      <td>13883</td>\n",
       "    </tr>\n",
       "    <tr>\n",
       "      <th>4</th>\n",
       "      <td>5628</td>\n",
       "    </tr>\n",
       "    <tr>\n",
       "      <th>5</th>\n",
       "      <td>1686</td>\n",
       "    </tr>\n",
       "    <tr>\n",
       "      <th>2</th>\n",
       "      <td>157</td>\n",
       "    </tr>\n",
       "    <tr>\n",
       "      <th>1</th>\n",
       "      <td>23</td>\n",
       "    </tr>\n",
       "  </tbody>\n",
       "</table>\n",
       "</div>"
      ],
      "text/plain": [
       "   condition\n",
       "3      13883\n",
       "4       5628\n",
       "5       1686\n",
       "2        157\n",
       "1         23"
      ]
     },
     "execution_count": 33,
     "metadata": {},
     "output_type": "execute_result"
    }
   ],
   "source": [
    "# We use the value_counts method to visualize the frequencies of the ratings\n",
    "# We see that despite dropping the records with outliers in the price column, the distribution of ratings has not significantly changed\n",
    "df = df_filtered\n",
    "df['condition'].value_counts().to_frame()"
   ]
  },
  {
   "cell_type": "markdown",
   "metadata": {},
   "source": [
    "Next, we use a histogram to further enhance our visualization of how these ratings are distributed."
   ]
  },
  {
   "cell_type": "code",
   "execution_count": 34,
   "metadata": {},
   "outputs": [
    {
     "data": {
      "image/png": "[encoded data removed]",
      "text/plain": [
       "<Figure size 576x432 with 1 Axes>"
      ]
     },
     "metadata": {},
     "output_type": "display_data"
    }
   ],
   "source": [
    "# Plot a histogram to show the distribution of the condition column\n",
    "plt.figure(figsize=(8, 6)) \n",
    "num_bins = 5\n",
    "plt.hist(df['condition'], bins=num_bins, color='Orange', alpha=0.7, edgecolor='Red')\n",
    "plt.grid(axis='y', alpha=0.75)\n",
    "plt.xlabel('Condition Rating')\n",
    "plt.ylabel('Frequency')\n",
    "plt.title('Distribution of Condition Ratings')\n",
    "\n",
    "plt.show();"
   ]
  },
  {
   "cell_type": "markdown",
   "metadata": {},
   "source": [
    "Since the feature condition represents quality ratings, our histogram visualization reveals key insights about the quality distribution within the dataset. \n",
    "\n",
    "We observe that a significant portion of the houses are rated as \"average\". This suggests that \"average\" quality is the prevailing condition of most houses in our dataset. \n",
    "\n",
    "It is also important to note that there are house with ratings above and below average implying that we have a variability in quality."
   ]
  },
  {
   "cell_type": "markdown",
   "metadata": {},
   "source": [
    "### Analyzing Bedrooms"
   ]
  },
  {
   "cell_type": "code",
   "execution_count": 35,
   "metadata": {},
   "outputs": [
    {
     "data": {
      "image/png": "[encoded data removed]",
      "text/plain": [
       "<Figure size 1080x360 with 1 Axes>"
      ]
     },
     "metadata": {},
     "output_type": "display_data"
    }
   ],
   "source": [
    "##Price vs Bedrooms\n",
    "# Seting the style for the boxplot\n",
    "sns.set(style=\"whitegrid\")\n",
    "# Defining the custom colors\n",
    "boxplot_colors = [\"#FF5733\", \"#33FF57\", \"#3357FF\"]\n",
    "# Create the boxplot with custom colors\n",
    "plt.figure(figsize=(15, 5))\n",
    "sns.boxplot(x='bedrooms', y='price', data=df_filtered, palette=boxplot_colors)\n",
    "# Add a title\n",
    "plt.title(\"Price Distribution by Number of Bedrooms\")\n",
    "\n",
    "# Customize the axis labels\n",
    "plt.xlabel(\"Number of Bedrooms\")\n",
    "plt.ylabel(\"Price\")\n",
    "\n",
    "plt.show()"
   ]
  },
  {
   "cell_type": "code",
   "execution_count": 36,
   "metadata": {},
   "outputs": [
    {
     "data": {
      "text/plain": [
       "3     9777\n",
       "4     6836\n",
       "2     2699\n",
       "5     1560\n",
       "6      265\n",
       "1      182\n",
       "7       36\n",
       "8       12\n",
       "9        6\n",
       "10       3\n",
       "11       1\n",
       "Name: bedrooms, dtype: int64"
      ]
     },
     "execution_count": 36,
     "metadata": {},
     "output_type": "execute_result"
    }
   ],
   "source": [
    "#Replacing the outlier with the mean\n",
    "df_filtered.loc[(df_filtered.bedrooms == 33), 'bedrooms'] = 3\n",
    "df_filtered['bedrooms'].value_counts()"
   ]
  },
  {
   "cell_type": "markdown",
   "metadata": {},
   "source": [
    "The mode of the bedroom column is 3, which means most houses haveof 3 bedrooms."
   ]
  },
  {
   "cell_type": "markdown",
   "metadata": {},
   "source": [
    "### Correlation Matrix\n",
    "\n",
    "Using a heatmap to find out the correlation between the variables of this data set"
   ]
  },
  {
   "cell_type": "code",
   "execution_count": 37,
   "metadata": {},
   "outputs": [
    {
     "data": {
      "text/plain": [
       "price              1.000000\n",
       "bedrooms           0.316654\n",
       "bathrooms          0.408435\n",
       "sqft_living        0.682378\n",
       "sqft_lot           0.098745\n",
       "floors             0.271005\n",
       "waterfront         0.164017\n",
       "condition          0.035434\n",
       "grade              0.678498\n",
       "yr_built           0.053203\n",
       "zipcode           -0.045708\n",
       "lat                0.343698\n",
       "long               0.031426\n",
       "waterfront_miss   -0.002203\n",
       "Name: price, dtype: float64"
      ]
     },
     "execution_count": 37,
     "metadata": {},
     "output_type": "execute_result"
    }
   ],
   "source": [
    "# Finding out the correlation between the features\n",
    "df_filtered.corr()['price']"
   ]
  },
  {
   "cell_type": "code",
   "execution_count": 38,
   "metadata": {},
   "outputs": [
    {
     "data": {
      "image/png": "[encoded data removed]",
      "text/plain": [
       "<Figure size 1080x720 with 2 Axes>"
      ]
     },
     "metadata": {},
     "output_type": "display_data"
    }
   ],
   "source": [
    "# Plotting a correlation heatmap using seaborn. Border the squares with black color, show the correlation index and round it up.\n",
    "plt.figure(figsize=(15, 10))  # Set the figure size\n",
    "sns.heatmap(df_filtered.corr(), annot=True, linewidths=0.5, linecolor='black', fmt='1.1f')\n",
    "\n",
    "# Give a title to the map and display it.\n",
    "plt.title('Correlation Heatmap', size=18)\n",
    "plt.show()"
   ]
  },
  {
   "cell_type": "markdown",
   "metadata": {},
   "source": [
    "## MODELLING"
   ]
  },
  {
   "cell_type": "markdown",
   "metadata": {},
   "source": [
    "## Regression Analysis(Simple Linear Regression):\n",
    "\n",
    "We will focus specifically on a subset of the overall dataset to perform our regression analysis. Regression analysis will allow us to quantify the extent to which these features affect house prices and provide a predictive model for pricing. \n",
    "\n",
    "The features considered are those that are highly correlated with our target price 'price' as seen from our correlation matrix and correlation heatmap.\n",
    "They include: sqft_living, \n",
    "              bathrooms,bedrooms, , sqft_lot, waterfront, grade,floors,condition."
   ]
  },
  {
   "cell_type": "code",
   "execution_count": 39,
   "metadata": {},
   "outputs": [
    {
     "data": {
      "text/html": [
       "<div>\n",
       "<style scoped>\n",
       "    .dataframe tbody tr th:only-of-type {\n",
       "        vertical-align: middle;\n",
       "    }\n",
       "\n",
       "    .dataframe tbody tr th {\n",
       "        vertical-align: top;\n",
       "    }\n",
       "\n",
       "    .dataframe thead th {\n",
       "        text-align: right;\n",
       "    }\n",
       "</style>\n",
       "<table border=\"1\" class=\"dataframe\">\n",
       "  <thead>\n",
       "    <tr style=\"text-align: right;\">\n",
       "      <th></th>\n",
       "      <th>bedrooms</th>\n",
       "      <th>bathrooms</th>\n",
       "      <th>sqft_living</th>\n",
       "      <th>sqft_lot</th>\n",
       "      <th>waterfront</th>\n",
       "      <th>grade</th>\n",
       "      <th>floors</th>\n",
       "      <th>condition</th>\n",
       "      <th>price</th>\n",
       "    </tr>\n",
       "  </thead>\n",
       "  <tbody>\n",
       "    <tr>\n",
       "      <th>0</th>\n",
       "      <td>3</td>\n",
       "      <td>1.00</td>\n",
       "      <td>1180</td>\n",
       "      <td>5650</td>\n",
       "      <td>0.0</td>\n",
       "      <td>7</td>\n",
       "      <td>1.0</td>\n",
       "      <td>3</td>\n",
       "      <td>221900.0</td>\n",
       "    </tr>\n",
       "    <tr>\n",
       "      <th>1</th>\n",
       "      <td>3</td>\n",
       "      <td>2.25</td>\n",
       "      <td>2570</td>\n",
       "      <td>7242</td>\n",
       "      <td>0.0</td>\n",
       "      <td>7</td>\n",
       "      <td>2.0</td>\n",
       "      <td>3</td>\n",
       "      <td>538000.0</td>\n",
       "    </tr>\n",
       "    <tr>\n",
       "      <th>2</th>\n",
       "      <td>2</td>\n",
       "      <td>1.00</td>\n",
       "      <td>770</td>\n",
       "      <td>10000</td>\n",
       "      <td>0.0</td>\n",
       "      <td>6</td>\n",
       "      <td>1.0</td>\n",
       "      <td>3</td>\n",
       "      <td>180000.0</td>\n",
       "    </tr>\n",
       "    <tr>\n",
       "      <th>3</th>\n",
       "      <td>4</td>\n",
       "      <td>3.00</td>\n",
       "      <td>1960</td>\n",
       "      <td>5000</td>\n",
       "      <td>0.0</td>\n",
       "      <td>7</td>\n",
       "      <td>1.0</td>\n",
       "      <td>5</td>\n",
       "      <td>604000.0</td>\n",
       "    </tr>\n",
       "    <tr>\n",
       "      <th>4</th>\n",
       "      <td>3</td>\n",
       "      <td>2.00</td>\n",
       "      <td>1680</td>\n",
       "      <td>8080</td>\n",
       "      <td>0.0</td>\n",
       "      <td>8</td>\n",
       "      <td>1.0</td>\n",
       "      <td>3</td>\n",
       "      <td>510000.0</td>\n",
       "    </tr>\n",
       "    <tr>\n",
       "      <th>...</th>\n",
       "      <td>...</td>\n",
       "      <td>...</td>\n",
       "      <td>...</td>\n",
       "      <td>...</td>\n",
       "      <td>...</td>\n",
       "      <td>...</td>\n",
       "      <td>...</td>\n",
       "      <td>...</td>\n",
       "      <td>...</td>\n",
       "    </tr>\n",
       "    <tr>\n",
       "      <th>21592</th>\n",
       "      <td>3</td>\n",
       "      <td>2.50</td>\n",
       "      <td>1530</td>\n",
       "      <td>1131</td>\n",
       "      <td>0.0</td>\n",
       "      <td>8</td>\n",
       "      <td>3.0</td>\n",
       "      <td>3</td>\n",
       "      <td>360000.0</td>\n",
       "    </tr>\n",
       "    <tr>\n",
       "      <th>21593</th>\n",
       "      <td>4</td>\n",
       "      <td>2.50</td>\n",
       "      <td>2310</td>\n",
       "      <td>5813</td>\n",
       "      <td>0.0</td>\n",
       "      <td>8</td>\n",
       "      <td>2.0</td>\n",
       "      <td>3</td>\n",
       "      <td>400000.0</td>\n",
       "    </tr>\n",
       "    <tr>\n",
       "      <th>21594</th>\n",
       "      <td>2</td>\n",
       "      <td>0.75</td>\n",
       "      <td>1020</td>\n",
       "      <td>1350</td>\n",
       "      <td>0.0</td>\n",
       "      <td>7</td>\n",
       "      <td>2.0</td>\n",
       "      <td>3</td>\n",
       "      <td>402101.0</td>\n",
       "    </tr>\n",
       "    <tr>\n",
       "      <th>21595</th>\n",
       "      <td>3</td>\n",
       "      <td>2.50</td>\n",
       "      <td>1600</td>\n",
       "      <td>2388</td>\n",
       "      <td>0.0</td>\n",
       "      <td>8</td>\n",
       "      <td>2.0</td>\n",
       "      <td>3</td>\n",
       "      <td>400000.0</td>\n",
       "    </tr>\n",
       "    <tr>\n",
       "      <th>21596</th>\n",
       "      <td>2</td>\n",
       "      <td>0.75</td>\n",
       "      <td>1020</td>\n",
       "      <td>1076</td>\n",
       "      <td>0.0</td>\n",
       "      <td>7</td>\n",
       "      <td>2.0</td>\n",
       "      <td>3</td>\n",
       "      <td>325000.0</td>\n",
       "    </tr>\n",
       "  </tbody>\n",
       "</table>\n",
       "<p>21377 rows × 9 columns</p>\n",
       "</div>"
      ],
      "text/plain": [
       "       bedrooms  bathrooms  sqft_living  sqft_lot  waterfront  grade  floors  \\\n",
       "0             3       1.00         1180      5650         0.0      7     1.0   \n",
       "1             3       2.25         2570      7242         0.0      7     2.0   \n",
       "2             2       1.00          770     10000         0.0      6     1.0   \n",
       "3             4       3.00         1960      5000         0.0      7     1.0   \n",
       "4             3       2.00         1680      8080         0.0      8     1.0   \n",
       "...         ...        ...          ...       ...         ...    ...     ...   \n",
       "21592         3       2.50         1530      1131         0.0      8     3.0   \n",
       "21593         4       2.50         2310      5813         0.0      8     2.0   \n",
       "21594         2       0.75         1020      1350         0.0      7     2.0   \n",
       "21595         3       2.50         1600      2388         0.0      8     2.0   \n",
       "21596         2       0.75         1020      1076         0.0      7     2.0   \n",
       "\n",
       "       condition     price  \n",
       "0              3  221900.0  \n",
       "1              3  538000.0  \n",
       "2              3  180000.0  \n",
       "3              5  604000.0  \n",
       "4              3  510000.0  \n",
       "...          ...       ...  \n",
       "21592          3  360000.0  \n",
       "21593          3  400000.0  \n",
       "21594          3  402101.0  \n",
       "21595          3  400000.0  \n",
       "21596          3  325000.0  \n",
       "\n",
       "[21377 rows x 9 columns]"
      ]
     },
     "execution_count": 39,
     "metadata": {},
     "output_type": "execute_result"
    }
   ],
   "source": [
    "df_subset = df_filtered[['bedrooms', 'bathrooms','sqft_living', 'sqft_lot', 'waterfront', 'grade','floors','condition','price']]\n",
    "df_subset "
   ]
  },
  {
   "cell_type": "markdown",
   "metadata": {},
   "source": [
    "### Step 1: Visualization relationship between features and target"
   ]
  },
  {
   "cell_type": "markdown",
   "metadata": {},
   "source": [
    "For each feature, we create a scatter plot showing features on the x-axis and the target on the y-axis."
   ]
  },
  {
   "cell_type": "code",
   "execution_count": 40,
   "metadata": {},
   "outputs": [
    {
     "data": {
      "image/png": "[encoded data removed]",
      "text/plain": [
       "<Figure size 1440x720 with 8 Axes>"
      ]
     },
     "metadata": {},
     "output_type": "display_data"
    }
   ],
   "source": [
    "import matplotlib.pyplot as plt\n",
    "\n",
    "# Define the number of columns and rows for the subplot grid\n",
    "num_cols = 4\n",
    "num_rows = 2\n",
    "\n",
    "# Create subplots \n",
    "fig, axes = plt.subplots(nrows=num_rows, ncols=num_cols, figsize=(20, 10))\n",
    "\n",
    "# Flatten the axes to iterate over them\n",
    "axes = axes.ravel()\n",
    "\n",
    "# Exclude \"price\" column from the list of columns to be plotted\n",
    "columns_to_plot = df_subset.drop(\"price\", axis=1).columns\n",
    "\n",
    "# Iterate through the selected columns and create scatter plots with orange color\n",
    "for i, col in enumerate(columns_to_plot):\n",
    "    ax = axes[i]  # Select the current subplot\n",
    "    ax.scatter(df_subset[col], df_subset[\"price\"], alpha=0.2, color='orange')  # Set the color to orange\n",
    "    ax.set_xlabel(col)\n",
    "    ax.set_ylabel(\"price\")\n",
    "    ax.set_title(f'Scatter Plot of {col} vs. Price')\n",
    "\n",
    "# Remove any empty subplots if the number of features is less than expected\n",
    "for i in range(len(columns_to_plot), num_cols * num_rows):\n",
    "    fig.delaxes(axes[i])\n",
    "\n",
    "# Adjust the layout and display the plots\n",
    "plt.tight_layout()\n",
    "plt.show()"
   ]
  },
  {
   "cell_type": "markdown",
   "metadata": {},
   "source": [
    "\n",
    "The sqft_living feature seems to have the highest correlation with price\n"
   ]
  },
  {
   "cell_type": "markdown",
   "metadata": {},
   "source": [
    "### Step 2: Build a simple Linear Model"
   ]
  },
  {
   "cell_type": "code",
   "execution_count": 41,
   "metadata": {},
   "outputs": [
    {
     "data": {
      "text/html": [
       "<div>\n",
       "<style scoped>\n",
       "    .dataframe tbody tr th:only-of-type {\n",
       "        vertical-align: middle;\n",
       "    }\n",
       "\n",
       "    .dataframe tbody tr th {\n",
       "        vertical-align: top;\n",
       "    }\n",
       "\n",
       "    .dataframe thead th {\n",
       "        text-align: right;\n",
       "    }\n",
       "</style>\n",
       "<table border=\"1\" class=\"dataframe\">\n",
       "  <thead>\n",
       "    <tr style=\"text-align: right;\">\n",
       "      <th></th>\n",
       "      <th>price</th>\n",
       "    </tr>\n",
       "  </thead>\n",
       "  <tbody>\n",
       "    <tr>\n",
       "      <th>bedrooms</th>\n",
       "      <td>0.316654</td>\n",
       "    </tr>\n",
       "    <tr>\n",
       "      <th>bathrooms</th>\n",
       "      <td>0.408435</td>\n",
       "    </tr>\n",
       "    <tr>\n",
       "      <th>sqft_living</th>\n",
       "      <td>0.682378</td>\n",
       "    </tr>\n",
       "    <tr>\n",
       "      <th>sqft_lot</th>\n",
       "      <td>0.098745</td>\n",
       "    </tr>\n",
       "    <tr>\n",
       "      <th>waterfront</th>\n",
       "      <td>0.164017</td>\n",
       "    </tr>\n",
       "    <tr>\n",
       "      <th>grade</th>\n",
       "      <td>0.678498</td>\n",
       "    </tr>\n",
       "    <tr>\n",
       "      <th>floors</th>\n",
       "      <td>0.271005</td>\n",
       "    </tr>\n",
       "    <tr>\n",
       "      <th>condition</th>\n",
       "      <td>0.035434</td>\n",
       "    </tr>\n",
       "    <tr>\n",
       "      <th>price</th>\n",
       "      <td>1.000000</td>\n",
       "    </tr>\n",
       "  </tbody>\n",
       "</table>\n",
       "</div>"
      ],
      "text/plain": [
       "                price\n",
       "bedrooms     0.316654\n",
       "bathrooms    0.408435\n",
       "sqft_living  0.682378\n",
       "sqft_lot     0.098745\n",
       "waterfront   0.164017\n",
       "grade        0.678498\n",
       "floors       0.271005\n",
       "condition    0.035434\n",
       "price        1.000000"
      ]
     },
     "execution_count": 41,
     "metadata": {},
     "output_type": "execute_result"
    }
   ],
   "source": [
    "# Explore the relationship to find our starting point\n",
    "df_subset.corr()['price'].to_frame()"
   ]
  },
  {
   "cell_type": "code",
   "execution_count": 42,
   "metadata": {},
   "outputs": [],
   "source": [
    "y = df_subset[\"price\"]\n",
    "\n",
    "#sqft_living has the highest correlation of the 8 features\n",
    "X_baseline = df_subset[[\"sqft_living\"]]"
   ]
  },
  {
   "cell_type": "code",
   "execution_count": 43,
   "metadata": {},
   "outputs": [
    {
     "name": "stdout",
     "output_type": "stream",
     "text": [
      "                            OLS Regression Results                            \n",
      "==============================================================================\n",
      "Dep. Variable:                  price   R-squared:                       0.466\n",
      "Model:                            OLS   Adj. R-squared:                  0.466\n",
      "Method:                 Least Squares   F-statistic:                 1.863e+04\n",
      "Date:                Fri, 27 Oct 2023   Prob (F-statistic):               0.00\n",
      "Time:                        19:20:03   Log-Likelihood:            -2.9379e+05\n",
      "No. Observations:               21377   AIC:                         5.876e+05\n",
      "Df Residuals:                   21375   BIC:                         5.876e+05\n",
      "Df Model:                           1                                         \n",
      "Covariance Type:            nonrobust                                         \n",
      "===============================================================================\n",
      "                  coef    std err          t      P>|t|      [0.025      0.975]\n",
      "-------------------------------------------------------------------------------\n",
      "const        3.396e+04   3940.225      8.618      0.000    2.62e+04    4.17e+04\n",
      "sqft_living   239.2436      1.753    136.478      0.000     235.808     242.680\n",
      "==============================================================================\n",
      "Omnibus:                     7154.913   Durbin-Watson:                   1.980\n",
      "Prob(Omnibus):                  0.000   Jarque-Bera (JB):            36977.230\n",
      "Skew:                           1.533   Prob(JB):                         0.00\n",
      "Kurtosis:                       8.667   Cond. No.                     5.75e+03\n",
      "==============================================================================\n",
      "\n",
      "Notes:\n",
      "[1] Standard Errors assume that the covariance matrix of the errors is correctly specified.\n",
      "[2] The condition number is large, 5.75e+03. This might indicate that there are\n",
      "strong multicollinearity or other numerical problems.\n"
     ]
    }
   ],
   "source": [
    "from scipy import stats \n",
    "import statsmodels.api as sm\n",
    "baseline_model = sm.OLS(y, sm.add_constant(X_baseline))\n",
    "baseline_results = baseline_model.fit()\n",
    "print(baseline_results.summary())"
   ]
  },
  {
   "cell_type": "markdown",
   "metadata": {},
   "source": [
    " price^= 3.396e+04 + 239.2436sqft_living\n",
    "\n",
    "Our model is statistically significant overall and explains about 47% of the variation in the house prices\n",
    "Both our intercept and coefficient for grade are statistically significant\n",
    "\n",
    "The sqft_living coefficient is about 239. it suggests that as the living space increases, the house price tends to increase by $239 per square foot\n",
    "\n",
    "\n",
    "\n"
   ]
  },
  {
   "cell_type": "code",
   "execution_count": 44,
   "metadata": {},
   "outputs": [
    {
     "name": "stderr",
     "output_type": "stream",
     "text": [
      "*c* argument looks like a single numeric RGB or RGBA sequence, which should be avoided as value-mapping will have precedence in case its length matches with *x* & *y*.  Please use the *color* keyword-argument or provide a 2-D array with a single row if you intend to specify the same RGB or RGBA value for all points.\n"
     ]
    },
    {
     "data": {
      "image/png": "[encoded data removed]",
      "text/plain": [
       "<Figure size 576x396 with 1 Axes>"
      ]
     },
     "metadata": {},
     "output_type": "display_data"
    }
   ],
   "source": [
    "#plotting the regression line\n",
    "fig, ax = plt.subplots()\n",
    "df_filtered.plot.scatter(x=\"sqft_living\", y=\"price\", label=\"Data points\", ax=ax)\n",
    "sm.graphics.abline_plot(model_results=baseline_results, label=\"Regression line\", ax=ax, color=\"black\")\n",
    "ax.legend();"
   ]
  },
  {
   "cell_type": "code",
   "execution_count": 45,
   "metadata": {},
   "outputs": [
    {
     "data": {
      "text/plain": [
       "0.46561507299674776"
      ]
     },
     "execution_count": 45,
     "metadata": {},
     "output_type": "execute_result"
    }
   ],
   "source": [
    "bm_score1 = baseline_results.rsquared_adj\n",
    "bm_score1"
   ]
  },
  {
   "cell_type": "code",
   "execution_count": 46,
   "metadata": {},
   "outputs": [
    {
     "name": "stdout",
     "output_type": "stream",
     "text": [
      "16032 5345 16032 5345\n"
     ]
    }
   ],
   "source": [
    "#Split the data into training and test sets. Use the default split size\n",
    "X_baseline_train, X_baseline_test, y_baseline_train, y_baseline_test = train_test_split(X_baseline, y, random_state = 42, shuffle = True)\n",
    "# A brief preview of our train test split\n",
    "print(len(X_baseline_train), len(X_baseline_test), len(y_baseline_train), len(y_baseline_test))"
   ]
  },
  {
   "cell_type": "code",
   "execution_count": 47,
   "metadata": {},
   "outputs": [],
   "source": [
    "# y-intercept\n",
    "X_baseline_train_bm_score1 = sm.add_constant(X_baseline_train)\n",
    "X_baseline_test_bm_score1 = sm.add_constant(X_baseline_test)"
   ]
  },
  {
   "cell_type": "code",
   "execution_count": 48,
   "metadata": {},
   "outputs": [],
   "source": [
    "# Calculate predictions on training and test sets\n",
    "y_baseline_hat_train = baseline_results.predict(X_baseline_train_bm_score1)\n",
    "y_baseline_hat_test = baseline_results.predict(X_baseline_test_bm_score1) "
   ]
  },
  {
   "cell_type": "code",
   "execution_count": 49,
   "metadata": {},
   "outputs": [],
   "source": [
    "# Calculate training and test residuals\n",
    "train_baseline_residuals = y_baseline_hat_train - y_baseline_train\n",
    "test_residuals = y_baseline_hat_test - y_baseline_test"
   ]
  },
  {
   "cell_type": "code",
   "execution_count": 50,
   "metadata": {
    "scrolled": true
   },
   "outputs": [
    {
     "name": "stdout",
     "output_type": "stream",
     "text": [
      "Train Mean Squarred Error of baseline model: 50975099105.935196\n",
      "Test Mean Squarred Error of baseline model: 49698669628.592964\n"
     ]
    }
   ],
   "source": [
    "# Calculate training and test MSE\n",
    "train_baseline_mse = mean_squared_error(y_baseline_train, y_baseline_hat_train)\n",
    "test_baseline_mse = mean_squared_error(y_baseline_test, y_baseline_hat_test)\n",
    "print('Train Mean Squarred Error of baseline model:',train_baseline_mse )\n",
    "print('Test Mean Squarred Error of baseline model:', test_baseline_mse)"
   ]
  },
  {
   "cell_type": "markdown",
   "metadata": {},
   "source": [
    "## Multiple Linear Regression "
   ]
  },
  {
   "cell_type": "code",
   "execution_count": 51,
   "metadata": {},
   "outputs": [
    {
     "data": {
      "text/plain": [
       "['bedrooms',\n",
       " 'bathrooms',\n",
       " 'sqft_living',\n",
       " 'sqft_lot',\n",
       " 'waterfront',\n",
       " 'grade',\n",
       " 'floors',\n",
       " 'condition']"
      ]
     },
     "execution_count": 51,
     "metadata": {},
     "output_type": "execute_result"
    }
   ],
   "source": [
    "x_cols = ['bedrooms', 'bathrooms','sqft_living', 'sqft_lot', 'waterfront', 'grade','floors','condition']\n",
    "x_cols"
   ]
  },
  {
   "cell_type": "markdown",
   "metadata": {},
   "source": [
    "**Split Data into Training and Test Sets**"
   ]
  },
  {
   "cell_type": "code",
   "execution_count": 52,
   "metadata": {},
   "outputs": [],
   "source": [
    "X = df_filtered[x_cols]\n",
    "y = df_filtered['price']"
   ]
  },
  {
   "cell_type": "code",
   "execution_count": 53,
   "metadata": {},
   "outputs": [
    {
     "name": "stdout",
     "output_type": "stream",
     "text": [
      "16032 5345 16032 5345\n"
     ]
    }
   ],
   "source": [
    "# Split the data into training and test sets. Use the default split size\n",
    "X_train, X_test, y_train, y_test = train_test_split(X, y, random_state = 42, shuffle = True)\n",
    "# A brief preview of our train test split\n",
    "print(len(X_train), len(X_test), len(y_train), len(y_test))"
   ]
  },
  {
   "cell_type": "code",
   "execution_count": 54,
   "metadata": {},
   "outputs": [],
   "source": [
    "# y-intercept\n",
    "X_train_bm = sm.add_constant(X_train)\n",
    "X_test_bm = sm.add_constant(X_test)"
   ]
  },
  {
   "cell_type": "code",
   "execution_count": 55,
   "metadata": {},
   "outputs": [
    {
     "name": "stdout",
     "output_type": "stream",
     "text": [
      "                            OLS Regression Results                            \n",
      "==============================================================================\n",
      "Dep. Variable:                  price   R-squared:                       0.572\n",
      "Model:                            OLS   Adj. R-squared:                  0.571\n",
      "Method:                 Least Squares   F-statistic:                     2672.\n",
      "Date:                Fri, 27 Oct 2023   Prob (F-statistic):               0.00\n",
      "Time:                        19:20:04   Log-Likelihood:            -2.1861e+05\n",
      "No. Observations:               16032   AIC:                         4.372e+05\n",
      "Df Residuals:                   16023   BIC:                         4.373e+05\n",
      "Df Model:                           8                                         \n",
      "Covariance Type:            nonrobust                                         \n",
      "===============================================================================\n",
      "                  coef    std err          t      P>|t|      [0.025      0.975]\n",
      "-------------------------------------------------------------------------------\n",
      "const       -7.049e+05   1.78e+04    -39.528      0.000    -7.4e+05    -6.7e+05\n",
      "bedrooms     -2.42e+04   2289.011    -10.574      0.000   -2.87e+04   -1.97e+04\n",
      "bathrooms   -4.572e+04   3411.616    -13.403      0.000   -5.24e+04    -3.9e+04\n",
      "sqft_living   168.7845      3.407     49.546      0.000     162.107     175.462\n",
      "sqft_lot       -0.2228      0.040     -5.503      0.000      -0.302      -0.143\n",
      "waterfront   5.129e+05   2.15e+04     23.906      0.000    4.71e+05    5.55e+05\n",
      "grade        1.115e+05   2286.895     48.766      0.000    1.07e+05    1.16e+05\n",
      "floors       3450.2247   3627.308      0.951      0.342   -3659.705    1.06e+04\n",
      "condition    5.933e+04   2571.953     23.069      0.000    5.43e+04    6.44e+04\n",
      "==============================================================================\n",
      "Omnibus:                     5151.013   Durbin-Watson:                   1.967\n",
      "Prob(Omnibus):                  0.000   Jarque-Bera (JB):            27949.515\n",
      "Skew:                           1.446   Prob(JB):                         0.00\n",
      "Kurtosis:                       8.786   Cond. No.                     5.83e+05\n",
      "==============================================================================\n",
      "\n",
      "Notes:\n",
      "[1] Standard Errors assume that the covariance matrix of the errors is correctly specified.\n",
      "[2] The condition number is large, 5.83e+05. This might indicate that there are\n",
      "strong multicollinearity or other numerical problems.\n"
     ]
    }
   ],
   "source": [
    "# Create the model with fit_intercept=True to include the intercept\n",
    "model_m2 = sm.OLS(y_train, sm.add_constant(X_train_bm))\n",
    "results_m2 = model_m2.fit()\n",
    "print(results_m2.summary())"
   ]
  },
  {
   "cell_type": "markdown",
   "metadata": {},
   "source": [
    "**Comment**"
   ]
  },
  {
   "cell_type": "markdown",
   "metadata": {},
   "source": [
    "price^ = -7.049e+05 -2.42e+04bedrooms -4.572e+04bathrooms + 168.7845sqft_living -0.2228sqft_lot +-0.2228waterfront + -0.2228grade + 3450.2247floors + 5.933e+04condition\n",
    "\n",
    "* The R-squared value (0.572) is a measure of how well the independent variables(predictors) explain the variance in the          dependent variable(price).\n",
    "* In this case, it indicates that approximately 57.2% of the variance in the \"price\" can be explained by the independent          variables included in the model.\n",
    "\n",
    "The F-statistic of 2672 and the corresponding p-value of 0.00 indicate that the overall model is statistically significant, meaning that at least one of the independent variables in the model is significantly related to the target variable."
   ]
  },
  {
   "cell_type": "markdown",
   "metadata": {},
   "source": [
    "In order to make the negative intercept more interpretable, we apply zero centering to the model."
   ]
  },
  {
   "cell_type": "code",
   "execution_count": 56,
   "metadata": {},
   "outputs": [
    {
     "data": {
      "text/html": [
       "<div>\n",
       "<style scoped>\n",
       "    .dataframe tbody tr th:only-of-type {\n",
       "        vertical-align: middle;\n",
       "    }\n",
       "\n",
       "    .dataframe tbody tr th {\n",
       "        vertical-align: top;\n",
       "    }\n",
       "\n",
       "    .dataframe thead th {\n",
       "        text-align: right;\n",
       "    }\n",
       "</style>\n",
       "<table border=\"1\" class=\"dataframe\">\n",
       "  <thead>\n",
       "    <tr style=\"text-align: right;\">\n",
       "      <th></th>\n",
       "      <th>bedrooms</th>\n",
       "      <th>bathrooms</th>\n",
       "      <th>sqft_living</th>\n",
       "      <th>sqft_lot</th>\n",
       "      <th>waterfront</th>\n",
       "      <th>grade</th>\n",
       "      <th>floors</th>\n",
       "      <th>condition</th>\n",
       "    </tr>\n",
       "  </thead>\n",
       "  <tbody>\n",
       "    <tr>\n",
       "      <th>count</th>\n",
       "      <td>2.137700e+04</td>\n",
       "      <td>2.137700e+04</td>\n",
       "      <td>2.137700e+04</td>\n",
       "      <td>2.137700e+04</td>\n",
       "      <td>2.137700e+04</td>\n",
       "      <td>2.137700e+04</td>\n",
       "      <td>2.137700e+04</td>\n",
       "      <td>2.137700e+04</td>\n",
       "    </tr>\n",
       "    <tr>\n",
       "      <th>mean</th>\n",
       "      <td>4.919321e-17</td>\n",
       "      <td>-2.286819e-16</td>\n",
       "      <td>2.260016e-13</td>\n",
       "      <td>3.485326e-13</td>\n",
       "      <td>-5.816765e-19</td>\n",
       "      <td>1.914547e-16</td>\n",
       "      <td>5.850003e-17</td>\n",
       "      <td>-1.755001e-16</td>\n",
       "    </tr>\n",
       "    <tr>\n",
       "      <th>std</th>\n",
       "      <td>8.977794e-01</td>\n",
       "      <td>6.746730e-01</td>\n",
       "      <td>8.781999e+02</td>\n",
       "      <td>4.160214e+04</td>\n",
       "      <td>7.251454e-02</td>\n",
       "      <td>1.142286e+00</td>\n",
       "      <td>5.393954e-01</td>\n",
       "      <td>6.489024e-01</td>\n",
       "    </tr>\n",
       "    <tr>\n",
       "      <th>min</th>\n",
       "      <td>-2.372222e+00</td>\n",
       "      <td>-1.312183e+00</td>\n",
       "      <td>-1.699068e+03</td>\n",
       "      <td>-1.457886e+04</td>\n",
       "      <td>-5.286055e-03</td>\n",
       "      <td>-4.650232e+00</td>\n",
       "      <td>-4.942462e-01</td>\n",
       "      <td>-2.411517e+00</td>\n",
       "    </tr>\n",
       "    <tr>\n",
       "      <th>25%</th>\n",
       "      <td>-3.722225e-01</td>\n",
       "      <td>-3.121827e-01</td>\n",
       "      <td>-6.390685e+02</td>\n",
       "      <td>-1.006486e+04</td>\n",
       "      <td>-5.286055e-03</td>\n",
       "      <td>-6.502316e-01</td>\n",
       "      <td>-4.942462e-01</td>\n",
       "      <td>-4.115171e-01</td>\n",
       "    </tr>\n",
       "    <tr>\n",
       "      <th>50%</th>\n",
       "      <td>-3.722225e-01</td>\n",
       "      <td>0.000000e+00</td>\n",
       "      <td>-1.590685e+02</td>\n",
       "      <td>-7.498865e+03</td>\n",
       "      <td>-5.286055e-03</td>\n",
       "      <td>-6.502316e-01</td>\n",
       "      <td>5.753848e-03</td>\n",
       "      <td>-4.115171e-01</td>\n",
       "    </tr>\n",
       "    <tr>\n",
       "      <th>75%</th>\n",
       "      <td>6.277775e-01</td>\n",
       "      <td>4.378173e-01</td>\n",
       "      <td>4.709315e+02</td>\n",
       "      <td>-4.490865e+03</td>\n",
       "      <td>-5.286055e-03</td>\n",
       "      <td>3.497684e-01</td>\n",
       "      <td>5.057538e-01</td>\n",
       "      <td>5.884829e-01</td>\n",
       "    </tr>\n",
       "    <tr>\n",
       "      <th>max</th>\n",
       "      <td>7.627778e+00</td>\n",
       "      <td>1.437817e+00</td>\n",
       "      <td>1.147093e+04</td>\n",
       "      <td>1.636260e+06</td>\n",
       "      <td>9.947139e-01</td>\n",
       "      <td>5.349768e+00</td>\n",
       "      <td>2.005754e+00</td>\n",
       "      <td>1.588483e+00</td>\n",
       "    </tr>\n",
       "  </tbody>\n",
       "</table>\n",
       "</div>"
      ],
      "text/plain": [
       "           bedrooms     bathrooms   sqft_living      sqft_lot    waterfront  \\\n",
       "count  2.137700e+04  2.137700e+04  2.137700e+04  2.137700e+04  2.137700e+04   \n",
       "mean   4.919321e-17 -2.286819e-16  2.260016e-13  3.485326e-13 -5.816765e-19   \n",
       "std    8.977794e-01  6.746730e-01  8.781999e+02  4.160214e+04  7.251454e-02   \n",
       "min   -2.372222e+00 -1.312183e+00 -1.699068e+03 -1.457886e+04 -5.286055e-03   \n",
       "25%   -3.722225e-01 -3.121827e-01 -6.390685e+02 -1.006486e+04 -5.286055e-03   \n",
       "50%   -3.722225e-01  0.000000e+00 -1.590685e+02 -7.498865e+03 -5.286055e-03   \n",
       "75%    6.277775e-01  4.378173e-01  4.709315e+02 -4.490865e+03 -5.286055e-03   \n",
       "max    7.627778e+00  1.437817e+00  1.147093e+04  1.636260e+06  9.947139e-01   \n",
       "\n",
       "              grade        floors     condition  \n",
       "count  2.137700e+04  2.137700e+04  2.137700e+04  \n",
       "mean   1.914547e-16  5.850003e-17 -1.755001e-16  \n",
       "std    1.142286e+00  5.393954e-01  6.489024e-01  \n",
       "min   -4.650232e+00 -4.942462e-01 -2.411517e+00  \n",
       "25%   -6.502316e-01 -4.942462e-01 -4.115171e-01  \n",
       "50%   -6.502316e-01  5.753848e-03 -4.115171e-01  \n",
       "75%    3.497684e-01  5.057538e-01  5.884829e-01  \n",
       "max    5.349768e+00  2.005754e+00  1.588483e+00  "
      ]
     },
     "execution_count": 56,
     "metadata": {},
     "output_type": "execute_result"
    }
   ],
   "source": [
    "X_centered = X.copy()\n",
    "\n",
    "for col in X_centered.columns:\n",
    "    X_centered[col] = X_centered[col] - X_centered[col].mean()\n",
    "    \n",
    "X_centered.describe()"
   ]
  },
  {
   "cell_type": "code",
   "execution_count": 57,
   "metadata": {},
   "outputs": [
    {
     "name": "stdout",
     "output_type": "stream",
     "text": [
      "\n",
      "Centered model adjusted R-Squared: 0.570433432986666\n",
      "\n"
     ]
    }
   ],
   "source": [
    "centered_model = sm.OLS(y, sm.add_constant(X_centered))\n",
    "centered_results = centered_model.fit()\n",
    "\n",
    "print(f\"\"\"\n",
    "Centered model adjusted R-Squared: {centered_results.rsquared_adj}\n",
    "\"\"\")"
   ]
  },
  {
   "cell_type": "code",
   "execution_count": 58,
   "metadata": {},
   "outputs": [
    {
     "data": {
      "text/plain": [
       "const          528969.864574\n",
       "bedrooms       -22893.608871\n",
       "bathrooms      -47599.050717\n",
       "sqft_living       168.615619\n",
       "sqft_lot           -0.201913\n",
       "waterfront     517979.386565\n",
       "grade          112428.499070\n",
       "floors           3232.447418\n",
       "condition       57608.907685\n",
       "dtype: float64"
      ]
     },
     "execution_count": 58,
     "metadata": {},
     "output_type": "execute_result"
    }
   ],
   "source": [
    "centered_results.params"
   ]
  },
  {
   "cell_type": "markdown",
   "metadata": {},
   "source": [
    "For a house with an average number of bedrooms, bathrooms, sqft_living,  area, sqft_lot area, waterfront, grade, floors and condition we would expect the price to be around $528969"
   ]
  },
  {
   "cell_type": "markdown",
   "metadata": {},
   "source": [
    "## Model Evaluation"
   ]
  },
  {
   "cell_type": "markdown",
   "metadata": {},
   "source": [
    "**Check For Normality**"
   ]
  },
  {
   "cell_type": "code",
   "execution_count": 59,
   "metadata": {},
   "outputs": [
    {
     "data": {
      "image/png": "[encoded data removed]",
      "text/plain": [
       "<Figure size 576x396 with 1 Axes>"
      ]
     },
     "metadata": {},
     "output_type": "display_data"
    }
   ],
   "source": [
    "# Checking that the residuals are normally distributed\n",
    "# Modify line color to orange and thickness\n",
    "fig = sm.graphics.qqplot(results_m2.resid, dist=stats.norm, line='45', fit=True);\n",
    "# Getting the axes and modify the line color and thickness\n",
    "ax = fig.get_axes()[0]\n",
    "ax.get_lines()[0].set_color('Orange')  # Set line color to orange\n",
    "ax.get_lines()[0].set_linewidth(2)  # Set line thickness to 2"
   ]
  },
  {
   "cell_type": "code",
   "execution_count": 60,
   "metadata": {},
   "outputs": [
    {
     "data": {
      "image/png": "[encoded data removed]",
      "text/plain": [
       "<Figure size 576x396 with 1 Axes>"
      ]
     },
     "metadata": {},
     "output_type": "display_data"
    }
   ],
   "source": [
    "# Build log transformed model\n",
    "y_log = np.log(y)\n",
    "model = sm.OLS(y_log,  sm.add_constant(X)).fit()\n",
    "\n",
    "fig = sm.graphics.qqplot(model.resid, dist=stats.norm, line='45', fit=True)\n",
    "\n",
    "# Getting the axes and modify the line color and thickness\n",
    "ax = fig.get_axes()[0]\n",
    "ax.get_lines()[0].set_color('Orange')  # Set line color to orange\n",
    "ax.get_lines()[0].set_linewidth(2)  # Set line thickness to 2\n",
    "\n",
    "# Show the QQ plot\n",
    "plt.show()\n"
   ]
  },
  {
   "cell_type": "code",
   "execution_count": 61,
   "metadata": {},
   "outputs": [
    {
     "name": "stdout",
     "output_type": "stream",
     "text": [
      "                            OLS Regression Results                            \n",
      "==============================================================================\n",
      "Dep. Variable:                  price   R-squared:                       0.551\n",
      "Model:                            OLS   Adj. R-squared:                  0.551\n",
      "Method:                 Least Squares   F-statistic:                     3276.\n",
      "Date:                Fri, 27 Oct 2023   Prob (F-statistic):               0.00\n",
      "Time:                        19:20:05   Log-Likelihood:                -7002.8\n",
      "No. Observations:               21377   AIC:                         1.402e+04\n",
      "Df Residuals:                   21368   BIC:                         1.410e+04\n",
      "Df Model:                           8                                         \n",
      "Covariance Type:            nonrobust                                         \n",
      "===============================================================================\n",
      "                  coef    std err          t      P>|t|      [0.025      0.975]\n",
      "-------------------------------------------------------------------------------\n",
      "const          10.9038      0.026    422.859      0.000      10.853      10.954\n",
      "bedrooms       -0.0258      0.003     -7.783      0.000      -0.032      -0.019\n",
      "bathrooms      -0.0110      0.005     -2.227      0.026      -0.021      -0.001\n",
      "sqft_living     0.0002   4.92e-06     45.358      0.000       0.000       0.000\n",
      "sqft_lot    -1.877e-07   5.66e-08     -3.318      0.001   -2.99e-07   -7.68e-08\n",
      "waterfront      0.5678      0.032     17.867      0.000       0.505       0.630\n",
      "grade           0.1863      0.003     56.416      0.000       0.180       0.193\n",
      "floors          0.0191      0.005      3.674      0.000       0.009       0.029\n",
      "condition       0.0983      0.004     26.579      0.000       0.091       0.106\n",
      "==============================================================================\n",
      "Omnibus:                       39.698   Durbin-Watson:                   1.979\n",
      "Prob(Omnibus):                  0.000   Jarque-Bera (JB):               38.400\n",
      "Skew:                           0.086   Prob(JB):                     4.59e-09\n",
      "Kurtosis:                       2.884   Cond. No.                     6.12e+05\n",
      "==============================================================================\n",
      "\n",
      "Notes:\n",
      "[1] Standard Errors assume that the covariance matrix of the errors is correctly specified.\n",
      "[2] The condition number is large, 6.12e+05. This might indicate that there are\n",
      "strong multicollinearity or other numerical problems.\n"
     ]
    }
   ],
   "source": [
    "log_results = model.summary()\n",
    "print (log_results)"
   ]
  },
  {
   "cell_type": "markdown",
   "metadata": {},
   "source": [
    "The R-squared value indicates that approximately 55% of the variance in the \"price\" can be explained by the independent    variables included in the modelafter log transformation.\n",
    "\n",
    "\n",
    "The F-statistic of 3276 and the corresponding p-value of 0.00 indicate that the overall model is statistically significant, meaning that at least one of the independent variables in the model is significantly related to the target variable."
   ]
  },
  {
   "cell_type": "markdown",
   "metadata": {},
   "source": [
    "**Comment**"
   ]
  },
  {
   "cell_type": "markdown",
   "metadata": {},
   "source": [
    "* Normality Assumption: the points in the QQ-normal plot lie on a straight diagonal line and the deviations from the straight line are minimal. \n",
    "* This is a confirmation that this is a normal distribution."
   ]
  },
  {
   "cell_type": "code",
   "execution_count": 62,
   "metadata": {},
   "outputs": [
    {
     "data": {
      "text/plain": [
       "0.5507102800664527"
      ]
     },
     "execution_count": 62,
     "metadata": {},
     "output_type": "execute_result"
    }
   ],
   "source": [
    "bm_log_score = model.rsquared_adj\n",
    "bm_log_score"
   ]
  },
  {
   "cell_type": "code",
   "execution_count": 63,
   "metadata": {},
   "outputs": [
    {
     "name": "stdout",
     "output_type": "stream",
     "text": [
      "16032 5345 16032 5345\n"
     ]
    }
   ],
   "source": [
    "# Split the data into training and test sets. Use the default split size\n",
    "X_log_train, X_log_test, y_log_train, y_log_test = train_test_split(X, y_log, random_state = 42, shuffle = True)\n",
    "# A brief preview of our train test split\n",
    "print(len(X_log_train), len(X_log_test), len(y_log_train), len(y_log_test))"
   ]
  },
  {
   "cell_type": "code",
   "execution_count": 64,
   "metadata": {},
   "outputs": [],
   "source": [
    "# y-intercept\n",
    "X_log_train_bm = sm.add_constant(X_log_train)\n",
    "X_test_log_bm = sm.add_constant(X_log_test)"
   ]
  },
  {
   "cell_type": "code",
   "execution_count": 65,
   "metadata": {},
   "outputs": [],
   "source": [
    "# Calculate predictions on training and test sets\n",
    "y_log_hat_train = model.predict(X_log_train_bm)\n",
    "y_log_hat_test = model.predict(X_test_log_bm) "
   ]
  },
  {
   "cell_type": "code",
   "execution_count": 66,
   "metadata": {},
   "outputs": [],
   "source": [
    "# Calculate training and test residuals\n",
    "train_log_residuals = y_log_hat_train - y_log_train\n",
    "test_log_residuals = y_log_hat_test - y_log_test"
   ]
  },
  {
   "cell_type": "code",
   "execution_count": 67,
   "metadata": {},
   "outputs": [
    {
     "name": "stdout",
     "output_type": "stream",
     "text": [
      "Train Mean Squarred Error of log transformed model: 0.11317968205719839\n",
      "Test Mean Squarred Error of log transformed model: 0.11140492183570522\n"
     ]
    }
   ],
   "source": [
    "# Calculate training and test MSE\n",
    "train_log_mse = mean_squared_error(y_log_train, y_log_hat_train)\n",
    "test_log_mse = mean_squared_error(y_log_test, y_log_hat_test)\n",
    "print('Train Mean Squarred Error of log transformed model:',train_log_mse )\n",
    "print('Test Mean Squarred Error of log transformed model:', test_log_mse)"
   ]
  },
  {
   "cell_type": "markdown",
   "metadata": {},
   "source": [
    "**Checking for Homescedasticity**"
   ]
  },
  {
   "cell_type": "code",
   "execution_count": 68,
   "metadata": {},
   "outputs": [
    {
     "data": {
      "image/png": "[encoded data removed]",
      "text/plain": [
       "<Figure size 576x396 with 1 Axes>"
      ]
     },
     "metadata": {},
     "output_type": "display_data"
    }
   ],
   "source": [
    "# Check that the residuals are homoscedastic\n",
    "plt.scatter(results_m2.predict(X_train_bm), results_m2.resid, color='red')\n",
    "plt.xlabel('Predicted Price')\n",
    "plt.ylabel('Residuals')\n",
    "plt.plot(results_m2.predict(X_train_bm), [0 for i in range(len(X_train_bm))]);"
   ]
  },
  {
   "cell_type": "markdown",
   "metadata": {},
   "source": [
    "**Comment**\n",
    "* The data is a little heretoscedastic, but not too much. \n",
    "* The points do not vary more widely around the regression line for larger values of the explanatory variable."
   ]
  },
  {
   "cell_type": "code",
   "execution_count": 69,
   "metadata": {},
   "outputs": [
    {
     "data": {
      "text/plain": [
       "(1.0505779744217376, 0.010791092222384824, 'two-sided')"
      ]
     },
     "execution_count": 69,
     "metadata": {},
     "output_type": "execute_result"
    }
   ],
   "source": [
    "#Checking for heteroscedasticity\n",
    "from statsmodels.stats.diagnostic import het_goldfeldquandt\n",
    "het_goldfeldquandt(y, X.values, alternative='two-sided')"
   ]
  },
  {
   "cell_type": "markdown",
   "metadata": {},
   "source": [
    "If the p-value is 0.010791092222384824which is greater than 0.05,therefore we fail to reject the null hypothesis, suggesting that there is no strong evidence of heteroscedasticity."
   ]
  },
  {
   "cell_type": "markdown",
   "metadata": {},
   "source": [
    "**Model2(m2) Validation**"
   ]
  },
  {
   "cell_type": "code",
   "execution_count": 70,
   "metadata": {},
   "outputs": [
    {
     "data": {
      "text/plain": [
       "0.5713823035892265"
      ]
     },
     "execution_count": 70,
     "metadata": {},
     "output_type": "execute_result"
    }
   ],
   "source": [
    "bm_score = results_m2.rsquared_adj\n",
    "bm_score"
   ]
  },
  {
   "cell_type": "code",
   "execution_count": 71,
   "metadata": {},
   "outputs": [],
   "source": [
    "# Calculate predictions on training and test sets\n",
    "y_hat_train = results_m2.predict(X_train_bm)\n",
    "y_hat_test = results_m2.predict(X_test_bm) "
   ]
  },
  {
   "cell_type": "code",
   "execution_count": 72,
   "metadata": {},
   "outputs": [],
   "source": [
    "# Calculate training and test residuals\n",
    "train_residuals = y_hat_train - y_train\n",
    "test_residuals = y_hat_test - y_test"
   ]
  },
  {
   "cell_type": "code",
   "execution_count": 73,
   "metadata": {},
   "outputs": [
    {
     "name": "stdout",
     "output_type": "stream",
     "text": [
      "Train Mean Squarred Error of Model_m2: 40898334241.93827\n",
      "Test Mean Squarred Error of Model_m2: 40148058856.987465\n"
     ]
    }
   ],
   "source": [
    "# Calculate training and test MSE\n",
    "train_mse_m2 = mean_squared_error(y_train, y_hat_train)\n",
    "test_mse_m2 = mean_squared_error(y_test, y_hat_test)\n",
    "print('Train Mean Squarred Error of Model_m2:', train_mse_m2)\n",
    "print('Test Mean Squarred Error of Model_m2:', test_mse_m2)"
   ]
  },
  {
   "cell_type": "code",
   "execution_count": 74,
   "metadata": {},
   "outputs": [],
   "source": [
    "X = x_cols"
   ]
  },
  {
   "cell_type": "code",
   "execution_count": 75,
   "metadata": {},
   "outputs": [],
   "source": [
    "X = df_filtered[x_cols]\n",
    "y = df_filtered['price'] "
   ]
  },
  {
   "cell_type": "markdown",
   "metadata": {},
   "source": [
    "**Summary Table**"
   ]
  },
  {
   "cell_type": "code",
   "execution_count": 76,
   "metadata": {},
   "outputs": [
    {
     "data": {
      "text/html": [
       "<div>\n",
       "<style scoped>\n",
       "    .dataframe tbody tr th:only-of-type {\n",
       "        vertical-align: middle;\n",
       "    }\n",
       "\n",
       "    .dataframe tbody tr th {\n",
       "        vertical-align: top;\n",
       "    }\n",
       "\n",
       "    .dataframe thead th {\n",
       "        text-align: right;\n",
       "    }\n",
       "</style>\n",
       "<table border=\"1\" class=\"dataframe\">\n",
       "  <thead>\n",
       "    <tr style=\"text-align: right;\">\n",
       "      <th></th>\n",
       "      <th>Baseline Model</th>\n",
       "      <th>Model m2</th>\n",
       "      <th>log_results</th>\n",
       "    </tr>\n",
       "  </thead>\n",
       "  <tbody>\n",
       "    <tr>\n",
       "      <th>Adj R Squared</th>\n",
       "      <td>0.465615</td>\n",
       "      <td>0.571382</td>\n",
       "      <td>0.550710</td>\n",
       "    </tr>\n",
       "    <tr>\n",
       "      <th>RMSE_train</th>\n",
       "      <td>50975099105.935196</td>\n",
       "      <td>40898334241.938271</td>\n",
       "      <td>0.113180</td>\n",
       "    </tr>\n",
       "    <tr>\n",
       "      <th>RMSE_test</th>\n",
       "      <td>49698669628.592964</td>\n",
       "      <td>40148058856.987465</td>\n",
       "      <td>0.111405</td>\n",
       "    </tr>\n",
       "  </tbody>\n",
       "</table>\n",
       "</div>"
      ],
      "text/plain": [
       "                  Baseline Model           Model m2  log_results\n",
       "Adj R Squared           0.465615           0.571382     0.550710\n",
       "RMSE_train    50975099105.935196 40898334241.938271     0.113180\n",
       "RMSE_test     49698669628.592964 40148058856.987465     0.111405"
      ]
     },
     "execution_count": 76,
     "metadata": {},
     "output_type": "execute_result"
    }
   ],
   "source": [
    "pd.set_option('display.float_format', '{:.6f}'.format)\n",
    "pd.DataFrame([[bm_score1, bm_score, bm_log_score],\n",
    "              [train_baseline_mse, train_mse_m2, train_log_mse],\n",
    "              [test_baseline_mse, test_mse_m2, test_log_mse]], \n",
    "             columns = ['Baseline Model', 'Model m2', 'log_results'],\n",
    "             index = ['Adj R Squared', 'RMSE_train', 'RMSE_test'])"
   ]
  },
  {
   "cell_type": "markdown",
   "metadata": {},
   "source": [
    "**Cross Validation of the log transformed Model**"
   ]
  },
  {
   "cell_type": "code",
   "execution_count": 77,
   "metadata": {},
   "outputs": [
    {
     "name": "stdout",
     "output_type": "stream",
     "text": [
      "Train cross validation score of Model 1: 0.11331577972900371\n",
      "Test cross validation score of Model 1: 0.11191239845313403\n"
     ]
    }
   ],
   "source": [
    "linreg = LinearRegression()\n",
    "linreg.fit(X_log_train, y_log_train)\n",
    "mse = make_scorer(mean_squared_error)\n",
    "cv_5_train = cross_val_score(linreg, X_log_train, y_log_train, cv=5, scoring=mse)\n",
    "cv_5_test = cross_val_score(linreg, X_log_test, y_log_test, cv=5, scoring=mse)\n",
    "cv_5_train_mean = cv_5_train.mean()\n",
    "cv_5_test_mean = cv_5_test.mean()\n",
    "print('Train cross validation score of Model 1:', cv_5_train_mean)\n",
    "print('Test cross validation score of Model 1:', cv_5_test_mean)"
   ]
  },
  {
   "cell_type": "markdown",
   "metadata": {},
   "source": [
    "In this case, it appears that the model's performance on the test data (test cross-validation score) is slightly better (lower MSE) than on the training data (train cross-validation score). This suggests that the model is performing reasonably well, and it's not exhibiting significant overfitting to the training data."
   ]
  },
  {
   "cell_type": "code",
   "execution_count": 78,
   "metadata": {},
   "outputs": [
    {
     "data": {
      "text/plain": [
       "0.33576171570827235"
      ]
     },
     "execution_count": 78,
     "metadata": {},
     "output_type": "execute_result"
    }
   ],
   "source": [
    "rmse = mean_squared_error(y_log, model.predict(sm.add_constant(X)), squared=False)\n",
    "rmse"
   ]
  },
  {
   "cell_type": "markdown",
   "metadata": {},
   "source": [
    "Our RMSE suggests that the model's predictions are quite close to the actual prices, on average."
   ]
  },
  {
   "cell_type": "markdown",
   "metadata": {},
   "source": [
    "## CONCLUSION\n"
   ]
  },
  {
   "cell_type": "markdown",
   "metadata": {},
   "source": [
    "From our data we can conclude that price is mainly determined by waterfront, sqft_living, grade.\n",
    "\n",
    "Also, most houses have an average of 3 bedrooms.\n",
    "\n",
    "For a house with an average number of bedrooms, bathrooms, sqft_living,  area, sqft_lot area, waterfront, grade, floors and condition we would expect the price to be aapproximately $528969. \n",
    "\n",
    "Most houses in our data are of average condition.\n",
    "\n",
    "\n",
    "\n"
   ]
  },
  {
   "cell_type": "markdown",
   "metadata": {},
   "source": [
    "## RECOMMENDATIONS"
   ]
  },
  {
   "cell_type": "markdown",
   "metadata": {},
   "source": [
    "1.  Implement a pricing strategy that considers factors such as the specific location along the waterfront and any unique features of the property. Different waterfront properties may command different price points. A higher price for houses with waterfront views provides an opportunity for real estate agencies to specialize and cater to a niche market\n",
    " \n",
    " 2. Encourage sellers to invest in property improvements and maintenance to increase property value. Provide guidance on home staging and presentation to attract buyers since most of the house are of average condition.\n",
    "\n",
    " 3. Larger living spaces (sqft_living) can command higher prices. Sellers of properties with spacious living areas should emphasize this feature in listings. Buyers should prioritize properties that offer the desired living space.\n",
    "\n",
    " 4. Buyers interested in high-quality properties should prioritize those with a higher grade. Sellers should invest in improving the grade of their properties to increase market appeal."
   ]
  },
  {
   "cell_type": "markdown",
   "metadata": {},
   "source": [
    "## NEXT STEPS"
   ]
  },
  {
   "cell_type": "markdown",
   "metadata": {},
   "source": [
    "1. Evaluate the limitations of multiple linear regression by comparing its performance with other regression models.\n",
    "\n",
    "2. Supplementary data from the Kings County to further improve the model's precision.\n",
    "\n",
    "3. More current and longer cover period data to reach a more accurate conclusion for homeowners' reference.\n",
    "\n"
   ]
  }
 ],
 "metadata": {
  "kernelspec": {
   "display_name": "Python 3",
   "language": "python",
   "name": "python3"
  },
  "language_info": {
   "codemirror_mode": {
    "name": "ipython",
    "version": 3
   },
   "file_extension": ".py",
   "mimetype": "text/x-python",
   "name": "python",
   "nbconvert_exporter": "python",
   "pygments_lexer": "ipython3",
   "version": "3.8.5"
  }
 },
 "nbformat": 4,
 "nbformat_minor": 2
}
